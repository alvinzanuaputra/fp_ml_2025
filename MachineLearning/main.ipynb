{
 "cells": [
  {
   "cell_type": "markdown",
   "id": "8e09ca3d",
   "metadata": {},
   "source": [
    "# **1. Download Datasets Dari Kaggle**"
   ]
  },
  {
   "cell_type": "code",
   "execution_count": 1,
   "id": "d188ced7",
   "metadata": {},
   "outputs": [
    {
     "name": "stdout",
     "output_type": "stream",
     "text": [
      "Dataset URL: https://www.kaggle.com/datasets/lakshmi25npathi/imdb-dataset-of-50k-movie-reviews\n",
      "License(s): other\n",
      "Downloading imdb-dataset-of-50k-movie-reviews.zip to c:\\Users\\ASUS\\Desktop\\KULIAH\\Pembelajaran Mesin\\FP\\MachineLearning\n",
      "\n"
     ]
    },
    {
     "name": "stderr",
     "output_type": "stream",
     "text": [
      "\n",
      "  0%|          | 0.00/25.7M [00:00<?, ?B/s]\n",
      "100%|██████████| 25.7M/25.7M [00:00<00:00, 508MB/s]\n"
     ]
    }
   ],
   "source": [
    "! kaggle datasets download -d lakshmi25npathi/imdb-dataset-of-50k-movie-reviews\n",
    "! unzip -o -q imdb-dataset-of-50k-movie-reviews.zip -d Data\n",
    "! rm imdb-dataset-of-50k-movie-reviews.zip"
   ]
  },
  {
   "cell_type": "markdown",
   "id": "38c2a3b5",
   "metadata": {},
   "source": [
    "# **2. Import Library Awal**"
   ]
  },
  {
   "cell_type": "code",
   "execution_count": 2,
   "id": "1e9d9654",
   "metadata": {},
   "outputs": [],
   "source": [
    "import pandas as pd\n",
    "import re\n",
    "import nltk\n",
    "from nltk.corpus import stopwords\n",
    "from nltk.stem import WordNetLemmatizer\n",
    "import time # Untuk mengukur waktu pra-pemrosesan"
   ]
  },
  {
   "cell_type": "markdown",
   "id": "6b5007df",
   "metadata": {},
   "source": [
    "# **3. Load Dataset**"
   ]
  },
  {
   "cell_type": "code",
   "execution_count": 3,
   "id": "9c6022f9",
   "metadata": {},
   "outputs": [
    {
     "name": "stdout",
     "output_type": "stream",
     "text": [
      "File dataset IMDB Dataset.csv berhasil dimuat dari folder Data.\n"
     ]
    }
   ],
   "source": [
    "datasets_folder = 'Data'\n",
    "datasets_file = 'IMDB Dataset.csv'\n",
    "datasets_path = f'{datasets_folder}/{datasets_file}'\n",
    "\n",
    "try:\n",
    "    df = pd.read_csv(datasets_path)\n",
    "    print(f\"File dataset {datasets_file} berhasil dimuat dari folder {datasets_folder}.\")\n",
    "except FileNotFoundError:\n",
    "    print(f\"Tidak ada file {datasets_file} di dalam folder {datasets_folder}.\")\n"
   ]
  },
  {
   "cell_type": "markdown",
   "id": "b7a3644f",
   "metadata": {},
   "source": [
    "# **4. Semua Informasi datasets**"
   ]
  },
  {
   "cell_type": "code",
   "execution_count": 4,
   "id": "35fac95d",
   "metadata": {},
   "outputs": [
    {
     "name": "stdout",
     "output_type": "stream",
     "text": [
      "\n",
      "Baris 5 pertama dari dataset :\n",
      "\n"
     ]
    },
    {
     "data": {
      "text/html": [
       "<div>\n",
       "<style scoped>\n",
       "    .dataframe tbody tr th:only-of-type {\n",
       "        vertical-align: middle;\n",
       "    }\n",
       "\n",
       "    .dataframe tbody tr th {\n",
       "        vertical-align: top;\n",
       "    }\n",
       "\n",
       "    .dataframe thead th {\n",
       "        text-align: right;\n",
       "    }\n",
       "</style>\n",
       "<table border=\"1\" class=\"dataframe\">\n",
       "  <thead>\n",
       "    <tr style=\"text-align: right;\">\n",
       "      <th></th>\n",
       "      <th>review</th>\n",
       "      <th>sentiment</th>\n",
       "    </tr>\n",
       "  </thead>\n",
       "  <tbody>\n",
       "    <tr>\n",
       "      <th>0</th>\n",
       "      <td>One of the other reviewers has mentioned that ...</td>\n",
       "      <td>positive</td>\n",
       "    </tr>\n",
       "    <tr>\n",
       "      <th>1</th>\n",
       "      <td>A wonderful little production. &lt;br /&gt;&lt;br /&gt;The...</td>\n",
       "      <td>positive</td>\n",
       "    </tr>\n",
       "    <tr>\n",
       "      <th>2</th>\n",
       "      <td>I thought this was a wonderful way to spend ti...</td>\n",
       "      <td>positive</td>\n",
       "    </tr>\n",
       "    <tr>\n",
       "      <th>3</th>\n",
       "      <td>Basically there's a family where a little boy ...</td>\n",
       "      <td>negative</td>\n",
       "    </tr>\n",
       "    <tr>\n",
       "      <th>4</th>\n",
       "      <td>Petter Mattei's \"Love in the Time of Money\" is...</td>\n",
       "      <td>positive</td>\n",
       "    </tr>\n",
       "  </tbody>\n",
       "</table>\n",
       "</div>"
      ],
      "text/plain": [
       "                                              review sentiment\n",
       "0  One of the other reviewers has mentioned that ...  positive\n",
       "1  A wonderful little production. <br /><br />The...  positive\n",
       "2  I thought this was a wonderful way to spend ti...  positive\n",
       "3  Basically there's a family where a little boy ...  negative\n",
       "4  Petter Mattei's \"Love in the Time of Money\" is...  positive"
      ]
     },
     "execution_count": 4,
     "metadata": {},
     "output_type": "execute_result"
    }
   ],
   "source": [
    "print(\"\\nBaris 5 pertama dari dataset :\\n\")\n",
    "df.head()"
   ]
  },
  {
   "cell_type": "code",
   "execution_count": 5,
   "id": "90022e57",
   "metadata": {},
   "outputs": [
    {
     "name": "stdout",
     "output_type": "stream",
     "text": [
      "\n",
      "Informasi Dataset :\n",
      "\n",
      "<class 'pandas.core.frame.DataFrame'>\n",
      "RangeIndex: 50000 entries, 0 to 49999\n",
      "Data columns (total 2 columns):\n",
      " #   Column     Non-Null Count  Dtype \n",
      "---  ------     --------------  ----- \n",
      " 0   review     50000 non-null  object\n",
      " 1   sentiment  50000 non-null  object\n",
      "dtypes: object(2)\n",
      "memory usage: 781.4+ KB\n"
     ]
    }
   ],
   "source": [
    "print(\"\\nInformasi Dataset :\\n\")\n",
    "df.info()"
   ]
  },
  {
   "cell_type": "code",
   "execution_count": 6,
   "id": "8f2029cc",
   "metadata": {},
   "outputs": [
    {
     "name": "stdout",
     "output_type": "stream",
     "text": [
      "\n",
      "Statistik Deskriptif Dataset :\n",
      "\n"
     ]
    },
    {
     "data": {
      "text/html": [
       "<div>\n",
       "<style scoped>\n",
       "    .dataframe tbody tr th:only-of-type {\n",
       "        vertical-align: middle;\n",
       "    }\n",
       "\n",
       "    .dataframe tbody tr th {\n",
       "        vertical-align: top;\n",
       "    }\n",
       "\n",
       "    .dataframe thead th {\n",
       "        text-align: right;\n",
       "    }\n",
       "</style>\n",
       "<table border=\"1\" class=\"dataframe\">\n",
       "  <thead>\n",
       "    <tr style=\"text-align: right;\">\n",
       "      <th></th>\n",
       "      <th>review</th>\n",
       "      <th>sentiment</th>\n",
       "    </tr>\n",
       "  </thead>\n",
       "  <tbody>\n",
       "    <tr>\n",
       "      <th>count</th>\n",
       "      <td>50000</td>\n",
       "      <td>50000</td>\n",
       "    </tr>\n",
       "    <tr>\n",
       "      <th>unique</th>\n",
       "      <td>49582</td>\n",
       "      <td>2</td>\n",
       "    </tr>\n",
       "    <tr>\n",
       "      <th>top</th>\n",
       "      <td>Loved today's show!!! It was a variety and not...</td>\n",
       "      <td>positive</td>\n",
       "    </tr>\n",
       "    <tr>\n",
       "      <th>freq</th>\n",
       "      <td>5</td>\n",
       "      <td>25000</td>\n",
       "    </tr>\n",
       "  </tbody>\n",
       "</table>\n",
       "</div>"
      ],
      "text/plain": [
       "                                                   review sentiment\n",
       "count                                               50000     50000\n",
       "unique                                              49582         2\n",
       "top     Loved today's show!!! It was a variety and not...  positive\n",
       "freq                                                    5     25000"
      ]
     },
     "metadata": {},
     "output_type": "display_data"
    }
   ],
   "source": [
    "print(\"\\nStatistik Deskriptif Dataset :\\n\")\n",
    "display(df.describe())\n"
   ]
  },
  {
   "cell_type": "markdown",
   "id": "44345a90",
   "metadata": {},
   "source": [
    "# **5. Cek Nilai Yang Hilang Dari Datasets**"
   ]
  },
  {
   "cell_type": "code",
   "execution_count": 7,
   "id": "1aa65787",
   "metadata": {},
   "outputs": [
    {
     "name": "stdout",
     "output_type": "stream",
     "text": [
      "\n",
      "Jumlah Missing Values di Setiap Kolom :\n",
      "\n",
      "review       0\n",
      "sentiment    0\n",
      "dtype: int64\n"
     ]
    }
   ],
   "source": [
    "print(\"\\nJumlah Missing Values di Setiap Kolom :\\n\")\n",
    "print(df.isnull().sum())"
   ]
  },
  {
   "cell_type": "code",
   "execution_count": 8,
   "id": "46b8adaa",
   "metadata": {},
   "outputs": [],
   "source": [
    "# Jika ada missing values, hapus baris yang mengandung nilai kosong\n",
    "df_cleaned = df.dropna()"
   ]
  },
  {
   "cell_type": "code",
   "execution_count": 9,
   "id": "1ebabefc",
   "metadata": {},
   "outputs": [
    {
     "name": "stdout",
     "output_type": "stream",
     "text": [
      "\n",
      "Dataset setelah menghapus missing values:\n",
      "<class 'pandas.core.frame.DataFrame'>\n",
      "RangeIndex: 50000 entries, 0 to 49999\n",
      "Data columns (total 2 columns):\n",
      " #   Column     Non-Null Count  Dtype \n",
      "---  ------     --------------  ----- \n",
      " 0   review     50000 non-null  object\n",
      " 1   sentiment  50000 non-null  object\n",
      "dtypes: object(2)\n",
      "memory usage: 781.4+ KB\n",
      "None\n"
     ]
    }
   ],
   "source": [
    "print(\"\\nDataset setelah menghapus missing values:\")\n",
    "print(df_cleaned.info())  # Cek kembali apakah missing values sudah hilang"
   ]
  },
  {
   "cell_type": "markdown",
   "id": "b35a9218",
   "metadata": {},
   "source": [
    "#### NB : `Tidak Ada Missing Values`"
   ]
  },
  {
   "cell_type": "markdown",
   "id": "93d33a75",
   "metadata": {},
   "source": [
    "# **6. Pre-Processing**"
   ]
  },
  {
   "cell_type": "code",
   "execution_count": 10,
   "id": "bd0334ea",
   "metadata": {},
   "outputs": [
    {
     "name": "stdout",
     "output_type": "stream",
     "text": [
      "Memeriksa dan mengunduh resource NLTK yang diperlukan...\n",
      "Resource NLTK siap.\n",
      "\n",
      "Fungsi `preprocess_text` berhasil didefinisikan.\n",
      "\n"
     ]
    }
   ],
   "source": [
    "# Unduh resource NLTK yang diperlukan.\n",
    "print(\"Memeriksa dan mengunduh resource NLTK yang diperlukan...\")\n",
    "nltk.download('stopwords', quiet=True)\n",
    "nltk.download('wordnet', quiet=True)\n",
    "print(\"Resource NLTK siap.\")\n",
    "\n",
    "# Inisialisasi Tool Pra-pemrosesan\n",
    "lemmatizer = WordNetLemmatizer()\n",
    "stop_words = set(stopwords.words('english'))\n",
    "\n",
    "# Definisikan Fungsi Pra-pemrosesan\n",
    "def preprocess_text(text):\n",
    "    # 1. Lowercasing : mengubah semua karakter menjadi lowercase\n",
    "    text = text.lower()\n",
    "\n",
    "    # 2. Pembersihan Teks\n",
    "    text = re.sub(r'<.*?>', '', text)    # Menghapus tag HTML (e.g., <br />, <p>)\n",
    "    text = re.sub(r'[^a-z\\s]', '', text) # Menghapus tanda baca, angka, dan karakter non-alfabet (hanya mempertahankan huruf dan spasi)\n",
    "\n",
    "    # 3. Tokenisasi : Memisahkan teks menjadi kata-kata individual berdasarkan spasi\n",
    "    words = text.split()\n",
    "\n",
    "    # 4. Stopword Removal & 5. Lemmatization\n",
    "    processed_words = []\n",
    "    for word in words:\n",
    "        # Hanya proses kata yang bukan stopword\n",
    "        if word not in stop_words:\n",
    "            # Mengubah kata ke bentuk dasar (lemma)\n",
    "            processed_words.append(lemmatizer.lemmatize(word))\n",
    "\n",
    "    # Menggabungkan kembali kata-kata menjadi satu string\n",
    "    return ' '.join(processed_words)\n",
    "\n",
    "print(\"\\nFungsi `preprocess_text` berhasil didefinisikan.\\n\")\n",
    "\n"
   ]
  },
  {
   "cell_type": "code",
   "execution_count": 11,
   "id": "6715bdf9",
   "metadata": {},
   "outputs": [
    {
     "name": "stdout",
     "output_type": "stream",
     "text": [
      "\n",
      "Menerapkan pra-pemrosesan ke seluruh kolom 'review' di DataFrame...\n",
      "\n",
      "Pra-pemrosesan selesai dalam 36.42 detik!\n"
     ]
    }
   ],
   "source": [
    "# Proses Pra-pemrosesan\n",
    "print(\"\\nMenerapkan pra-pemrosesan ke seluruh kolom 'review' di DataFrame...\")\n",
    "\n",
    "start_time = time.time()\n",
    "df['processed_review'] = df['review'].apply(preprocess_text)\n",
    "end_time = time.time()\n",
    "\n",
    "print(f\"\\nPra-pemrosesan selesai dalam {end_time - start_time:.2f} detik!\")"
   ]
  },
  {
   "cell_type": "code",
   "execution_count": 12,
   "id": "41b49c72",
   "metadata": {},
   "outputs": [
    {
     "name": "stdout",
     "output_type": "stream",
     "text": [
      "\n",
      "Berikut 5 baris pertama DataFrame setelah pra-pemrosesan:\n",
      "                                              review  \\\n",
      "0  One of the other reviewers has mentioned that ...   \n",
      "1  A wonderful little production. <br /><br />The...   \n",
      "2  I thought this was a wonderful way to spend ti...   \n",
      "3  Basically there's a family where a little boy ...   \n",
      "4  Petter Mattei's \"Love in the Time of Money\" is...   \n",
      "\n",
      "                                    processed_review sentiment  \n",
      "0  one reviewer mentioned watching oz episode you...  positive  \n",
      "1  wonderful little production filming technique ...  positive  \n",
      "2  thought wonderful way spend time hot summer we...  positive  \n",
      "3  basically there family little boy jake think t...  negative  \n",
      "4  petter matteis love time money visually stunni...  positive  \n",
      "\n",
      "Distribusi sentimen setelah pra-pemrosesan:\n",
      "sentiment\n",
      "positive    25000\n",
      "negative    25000\n",
      "Name: count, dtype: int64\n"
     ]
    }
   ],
   "source": [
    "# Hasil Pra-pemrosesan\n",
    "print(\"\\nBerikut 5 baris pertama DataFrame setelah pra-pemrosesan:\")\n",
    "# Tampilkan kolom asli, kolom yang diproses, dan sentimen\n",
    "print(df[['review', 'processed_review', 'sentiment']].head())\n",
    "\n",
    "print(\"\\nDistribusi sentimen setelah pra-pemrosesan:\")\n",
    "print(df['sentiment'].value_counts())"
   ]
  },
  {
   "cell_type": "markdown",
   "id": "cd976dcf",
   "metadata": {},
   "source": [
    "# **7. Vektorisasi Teks: Mengubah Kata Menjadi Angka**"
   ]
  },
  {
   "cell_type": "code",
   "execution_count": 13,
   "id": "bf13e766",
   "metadata": {},
   "outputs": [
    {
     "name": "stdout",
     "output_type": "stream",
     "text": [
      "Memulai proses vektorisasi menggunakan TF-IDF...\n",
      "\n",
      "Vektorisasi teks selesai!\n",
      "Bentuk matriks fitur (X): (50000, 36141)\n",
      "Jumlah fitur (kata unik) yang dihasilkan: 36141\n",
      "Bentuk vektor label (Y): (50000,)\n",
      "\n",
      "Vektorisasi selesai! Data teks sekarang dalam format numerik.\n",
      "\n",
      "Matriks fitur (X) dan vektor label (Y) sudah siap.\n"
     ]
    }
   ],
   "source": [
    "from sklearn.feature_extraction.text import TfidfVectorizer\n",
    "\n",
    "# Inisialisasi TfidfVectorizer\n",
    "# min_df: mengabaikan kata-kata yang frekuensinya terlalu rendah (muncul di kurang dari 5 dokumen)\n",
    "# max_df: mengabaikan kata-kata yang frekuensinya terlalu tinggi (muncul di lebih dari 80% dokumen)\n",
    "# stopwords: tidak perlu diatur karena kita sudah menghapusnya di pra-pemrosesan\n",
    "tfidf_vectorizer = TfidfVectorizer(min_df=5, max_df=0.8)\n",
    "print(\"Memulai proses vektorisasi menggunakan TF-IDF...\")\n",
    "\n",
    "# Menerapkan TfidfVectorizer pada kolom 'processed_review'\n",
    "# fit_transform: mempelajari kosakata dari data dan mengubah teks menjadi matriks TF-IDF\n",
    "X = tfidf_vectorizer.fit_transform(df['processed_review'])\n",
    "\n",
    "# Tampilkan ukuran matriks hasil vektorisasi\n",
    "print(\"\\nVektorisasi teks selesai!\")\n",
    "print(f\"Bentuk matriks fitur (X): {X.shape}\")\n",
    "print(f\"Jumlah fitur (kata unik) yang dihasilkan: {X.shape[1]}\")\n",
    "\n",
    "# Mengubah kolom 'sentiment' menjadi label numerik (0 dan 1)\n",
    "# 'negative' akan menjadi 0, 'positive' akan menjadi 1\n",
    "df['sentiment_encoded'] = df['sentiment'].apply(lambda x_1: 1 if x_1 == 'positive' else 0)\n",
    "Y = df['sentiment_encoded']\n",
    "\n",
    "print(f\"Bentuk vektor label (Y): {Y.shape}\")\n",
    "print(\"\\nVektorisasi selesai! Data teks sekarang dalam format numerik.\")\n",
    "print(\"\\nMatriks fitur (X) dan vektor label (Y) sudah siap.\")"
   ]
  },
  {
   "cell_type": "markdown",
   "id": "409e2fd7",
   "metadata": {},
   "source": [
    "# **8. Training Model**"
   ]
  },
  {
   "cell_type": "markdown",
   "id": "002e3180",
   "metadata": {},
   "source": [
    "### **A. Training Model Support Vector Machine (SVM)**"
   ]
  },
  {
   "cell_type": "code",
   "execution_count": 14,
   "id": "1bc60881",
   "metadata": {},
   "outputs": [
    {
     "name": "stdout",
     "output_type": "stream",
     "text": [
      "Memulai pembagian dataset menjadi data pelatihan dan pengujian...\n",
      "Ukuran data pelatihan (X_train): (40000, 36141)\n",
      "Ukuran label pelatihan (y_train): (40000,)\n",
      "Ukuran data pengujian (X_test): (10000, 36141)\n",
      "Ukuran label pengujian (y_test): (10000,)\n",
      "Pembagian dataset selesai.\n",
      "\n",
      "Memulai pelatihan model Support Vector Machine (LinearSVC)...\n",
      "Pelatihan model selesai dalam 2.41 detik!\n",
      "\n",
      "Melakukan evaluasi model pada data pengujian...\n",
      "\n",
      "Laporan Klasifikasi:\n",
      "              precision    recall  f1-score   support\n",
      "\n",
      "    negative       0.90      0.89      0.89      4961\n",
      "    positive       0.89      0.90      0.90      5039\n",
      "\n",
      "    accuracy                           0.89     10000\n",
      "   macro avg       0.89      0.89      0.89     10000\n",
      "weighted avg       0.89      0.89      0.89     10000\n",
      "\n",
      "Akurasi Model: 0.8941\n",
      "\n",
      "Model SVM telah dilatih dan dievaluasi.\n"
     ]
    }
   ],
   "source": [
    "from sklearn.model_selection import train_test_split\n",
    "from sklearn.svm import LinearSVC\n",
    "from sklearn.metrics import classification_report, accuracy_score\n",
    "import time\n",
    "\n",
    "# --- 1. Pembagian Data Pelatihan dan Pengujian ---\n",
    "# Membagi dataset menjadi training (80%) dan testing (20%)\n",
    "# random_state=42 memastikan hasil pembagian konsisten setiap kali kode dijalankan\n",
    "print(\"Memulai pembagian dataset menjadi data pelatihan dan pengujian...\")\n",
    "X_train, X_test, y_train, y_test = train_test_split(X, Y, test_size=0.2, random_state=42)\n",
    "\n",
    "print(f\"Ukuran data pelatihan (X_train): {X_train.shape}\")\n",
    "print(f\"Ukuran label pelatihan (y_train): {y_train.shape}\")\n",
    "print(f\"Ukuran data pengujian (X_test): {X_test.shape}\")\n",
    "print(f\"Ukuran label pengujian (y_test): {y_test.shape}\")\n",
    "print(\"Pembagian dataset selesai.\")\n",
    "\n",
    "# --- 2. Pelatihan Model Support Vector Machine (SVM) ---\n",
    "# Menggunakan LinearSVC karena efisien untuk dataset besar dan fitur yang banyak\n",
    "print(\"\\nMemulai pelatihan model Support Vector Machine (LinearSVC)...\")\n",
    "start_time = time.time()\n",
    "\n",
    "svm_model = LinearSVC(random_state=42, dual=False) # dual=False direkomendasikan untuk n_samples > n_features\n",
    "svm_model.fit(X_train, y_train)\n",
    "\n",
    "end_time = time.time()\n",
    "print(f\"Pelatihan model selesai dalam {end_time - start_time:.2f} detik!\")\n",
    "\n",
    "# --- 3. Evaluasi Model ---\n",
    "print(\"\\nMelakukan evaluasi model pada data pengujian...\")\n",
    "y_pred_svm = svm_model.predict(X_test)\n",
    "\n",
    "print(\"\\nLaporan Klasifikasi:\")\n",
    "print(classification_report(y_test, y_pred_svm, target_names=['negative', 'positive']))\n",
    "\n",
    "accuracy = accuracy_score(y_test, y_pred_svm)\n",
    "print(f\"Akurasi Model: {accuracy:.4f}\")\n",
    "\n",
    "print(\"\\nModel SVM telah dilatih dan dievaluasi.\")"
   ]
  },
  {
   "cell_type": "markdown",
   "id": "65b0905c",
   "metadata": {},
   "source": [
    "### **B. MODEL Artificial Neural Network dengan Keras (ANN)**"
   ]
  },
  {
   "cell_type": "code",
   "execution_count": 15,
   "id": "4679f6c5",
   "metadata": {},
   "outputs": [
    {
     "name": "stdout",
     "output_type": "stream",
     "text": [
      "\n",
      "Memulai pelatihan model Artificial Neural Network (ANN)...\n",
      "WARNING:tensorflow:Keras is training/fitting/evaluating on array-like data. Keras may not be optimized for this format, so if your input data format is supported by TensorFlow I/O (https://github.com/tensorflow/io) we recommend using that to load a Dataset instead.\n",
      "Epoch 1/10\n"
     ]
    },
    {
     "ename": "InvalidArgumentError",
     "evalue": "Graph execution error:\n\nTypeError: 'SparseTensor' object is not subscriptable\nTraceback (most recent call last):\n\n  File \"C:\\Users\\ASUS\\AppData\\Local\\Packages\\PythonSoftwareFoundation.Python.3.11_qbz5n2kfra8p0\\LocalCache\\local-packages\\Python311\\site-packages\\tensorflow\\python\\ops\\script_ops.py\", line 265, in __call__\n    return func(device, token, args)\n           ^^^^^^^^^^^^^^^^^^^^^^^^^\n\n  File \"C:\\Users\\ASUS\\AppData\\Local\\Packages\\PythonSoftwareFoundation.Python.3.11_qbz5n2kfra8p0\\LocalCache\\local-packages\\Python311\\site-packages\\tensorflow\\python\\ops\\script_ops.py\", line 143, in __call__\n    outputs = self._call(device, args)\n              ^^^^^^^^^^^^^^^^^^^^^^^^\n\n  File \"C:\\Users\\ASUS\\AppData\\Local\\Packages\\PythonSoftwareFoundation.Python.3.11_qbz5n2kfra8p0\\LocalCache\\local-packages\\Python311\\site-packages\\tensorflow\\python\\ops\\script_ops.py\", line 150, in _call\n    ret = self._func(*args)\n          ^^^^^^^^^^^^^^^^^\n\n  File \"C:\\Users\\ASUS\\AppData\\Local\\Packages\\PythonSoftwareFoundation.Python.3.11_qbz5n2kfra8p0\\LocalCache\\local-packages\\Python311\\site-packages\\tensorflow\\python\\autograph\\impl\\api.py\", line 642, in wrapper\n    return func(*args, **kwargs)\n           ^^^^^^^^^^^^^^^^^^^^^\n\n  File \"C:\\Users\\ASUS\\AppData\\Local\\Packages\\PythonSoftwareFoundation.Python.3.11_qbz5n2kfra8p0\\LocalCache\\local-packages\\Python311\\site-packages\\keras\\engine\\data_adapter.py\", line 512, in py_method\n    return [slice_array(inp) for inp in flat_inputs]\n           ^^^^^^^^^^^^^^^^^^^^^^^^^^^^^^^^^^^^^^^^^\n\n  File \"C:\\Users\\ASUS\\AppData\\Local\\Packages\\PythonSoftwareFoundation.Python.3.11_qbz5n2kfra8p0\\LocalCache\\local-packages\\Python311\\site-packages\\keras\\engine\\data_adapter.py\", line 512, in <listcomp>\n    return [slice_array(inp) for inp in flat_inputs]\n            ^^^^^^^^^^^^^^^^\n\n  File \"C:\\Users\\ASUS\\AppData\\Local\\Packages\\PythonSoftwareFoundation.Python.3.11_qbz5n2kfra8p0\\LocalCache\\local-packages\\Python311\\site-packages\\keras\\engine\\data_adapter.py\", line 508, in slice_array\n    return training_utils.slice_arrays(\n           ^^^^^^^^^^^^^^^^^^^^^^^^^^^^\n\n  File \"C:\\Users\\ASUS\\AppData\\Local\\Packages\\PythonSoftwareFoundation.Python.3.11_qbz5n2kfra8p0\\LocalCache\\local-packages\\Python311\\site-packages\\keras\\engine\\training_utils.py\", line 47, in slice_arrays\n    entries = [[x[i : i + 1] for i in indices] for x in arrays]\n              ^^^^^^^^^^^^^^^^^^^^^^^^^^^^^^^^^^^^^^^^^^^^^^^^^\n\n  File \"C:\\Users\\ASUS\\AppData\\Local\\Packages\\PythonSoftwareFoundation.Python.3.11_qbz5n2kfra8p0\\LocalCache\\local-packages\\Python311\\site-packages\\keras\\engine\\training_utils.py\", line 47, in <listcomp>\n    entries = [[x[i : i + 1] for i in indices] for x in arrays]\n               ^^^^^^^^^^^^^^^^^^^^^^^^^^^^^^^\n\n  File \"C:\\Users\\ASUS\\AppData\\Local\\Packages\\PythonSoftwareFoundation.Python.3.11_qbz5n2kfra8p0\\LocalCache\\local-packages\\Python311\\site-packages\\keras\\engine\\training_utils.py\", line 47, in <listcomp>\n    entries = [[x[i : i + 1] for i in indices] for x in arrays]\n                ~^^^^^^^^^^^\n\nTypeError: 'SparseTensor' object is not subscriptable\n\n\n\t [[{{node EagerPyFunc}}]]\n\t [[IteratorGetNext]] [Op:__inference_train_function_1172]",
     "output_type": "error",
     "traceback": [
      "\u001b[31m---------------------------------------------------------------------------\u001b[39m",
      "\u001b[31mInvalidArgumentError\u001b[39m                      Traceback (most recent call last)",
      "\u001b[36mCell\u001b[39m\u001b[36m \u001b[39m\u001b[32mIn[15]\u001b[39m\u001b[32m, line 20\u001b[39m\n\u001b[32m     17\u001b[39m model_ann.compile(loss=\u001b[33m'\u001b[39m\u001b[33mbinary_crossentropy\u001b[39m\u001b[33m'\u001b[39m, optimizer=\u001b[33m'\u001b[39m\u001b[33madam\u001b[39m\u001b[33m'\u001b[39m, metrics=[\u001b[33m'\u001b[39m\u001b[33maccuracy\u001b[39m\u001b[33m'\u001b[39m])\n\u001b[32m     19\u001b[39m \u001b[38;5;66;03m# Latih model ANN dengan data pelatihan\u001b[39;00m\n\u001b[32m---> \u001b[39m\u001b[32m20\u001b[39m history_ann = \u001b[43mmodel_ann\u001b[49m\u001b[43m.\u001b[49m\u001b[43mfit\u001b[49m\u001b[43m(\u001b[49m\u001b[43mX_train\u001b[49m\u001b[43m,\u001b[49m\u001b[43m \u001b[49m\u001b[43my_train\u001b[49m\u001b[43m,\u001b[49m\u001b[43m \u001b[49m\u001b[43mepochs\u001b[49m\u001b[43m=\u001b[49m\u001b[32;43m10\u001b[39;49m\u001b[43m,\u001b[49m\u001b[43m \u001b[49m\u001b[43mbatch_size\u001b[49m\u001b[43m=\u001b[49m\u001b[32;43m32\u001b[39;49m\u001b[43m,\u001b[49m\u001b[43m \u001b[49m\u001b[43mvalidation_data\u001b[49m\u001b[43m=\u001b[49m\u001b[43m(\u001b[49m\u001b[43mX_test\u001b[49m\u001b[43m,\u001b[49m\u001b[43m \u001b[49m\u001b[43my_test\u001b[49m\u001b[43m)\u001b[49m\u001b[43m,\u001b[49m\u001b[43m \u001b[49m\u001b[43mverbose\u001b[49m\u001b[43m=\u001b[49m\u001b[32;43m1\u001b[39;49m\u001b[43m)\u001b[49m\n\u001b[32m     22\u001b[39m end_time = time.time()\n\u001b[32m     23\u001b[39m \u001b[38;5;28mprint\u001b[39m(\u001b[33mf\u001b[39m\u001b[33m\"\u001b[39m\u001b[33mPelatihan model ANN selesai dalam \u001b[39m\u001b[38;5;132;01m{\u001b[39;00mend_time\u001b[38;5;250m \u001b[39m-\u001b[38;5;250m \u001b[39mstart_time\u001b[38;5;132;01m:\u001b[39;00m\u001b[33m.2f\u001b[39m\u001b[38;5;132;01m}\u001b[39;00m\u001b[33m detik!\u001b[39m\u001b[33m\"\u001b[39m)\n",
      "\u001b[36mFile \u001b[39m\u001b[32m~\\AppData\\Local\\Packages\\PythonSoftwareFoundation.Python.3.11_qbz5n2kfra8p0\\LocalCache\\local-packages\\Python311\\site-packages\\keras\\utils\\traceback_utils.py:70\u001b[39m, in \u001b[36mfilter_traceback.<locals>.error_handler\u001b[39m\u001b[34m(*args, **kwargs)\u001b[39m\n\u001b[32m     67\u001b[39m     filtered_tb = _process_traceback_frames(e.__traceback__)\n\u001b[32m     68\u001b[39m     \u001b[38;5;66;03m# To get the full stack trace, call:\u001b[39;00m\n\u001b[32m     69\u001b[39m     \u001b[38;5;66;03m# `tf.debugging.disable_traceback_filtering()`\u001b[39;00m\n\u001b[32m---> \u001b[39m\u001b[32m70\u001b[39m     \u001b[38;5;28;01mraise\u001b[39;00m e.with_traceback(filtered_tb) \u001b[38;5;28;01mfrom\u001b[39;00m\u001b[38;5;250m \u001b[39m\u001b[38;5;28;01mNone\u001b[39;00m\n\u001b[32m     71\u001b[39m \u001b[38;5;28;01mfinally\u001b[39;00m:\n\u001b[32m     72\u001b[39m     \u001b[38;5;28;01mdel\u001b[39;00m filtered_tb\n",
      "\u001b[36mFile \u001b[39m\u001b[32m~\\AppData\\Local\\Packages\\PythonSoftwareFoundation.Python.3.11_qbz5n2kfra8p0\\LocalCache\\local-packages\\Python311\\site-packages\\tensorflow\\python\\eager\\execute.py:52\u001b[39m, in \u001b[36mquick_execute\u001b[39m\u001b[34m(op_name, num_outputs, inputs, attrs, ctx, name)\u001b[39m\n\u001b[32m     50\u001b[39m \u001b[38;5;28;01mtry\u001b[39;00m:\n\u001b[32m     51\u001b[39m   ctx.ensure_initialized()\n\u001b[32m---> \u001b[39m\u001b[32m52\u001b[39m   tensors = pywrap_tfe.TFE_Py_Execute(ctx._handle, device_name, op_name,\n\u001b[32m     53\u001b[39m                                       inputs, attrs, num_outputs)\n\u001b[32m     54\u001b[39m \u001b[38;5;28;01mexcept\u001b[39;00m core._NotOkStatusException \u001b[38;5;28;01mas\u001b[39;00m e:\n\u001b[32m     55\u001b[39m   \u001b[38;5;28;01mif\u001b[39;00m name \u001b[38;5;129;01mis\u001b[39;00m \u001b[38;5;129;01mnot\u001b[39;00m \u001b[38;5;28;01mNone\u001b[39;00m:\n",
      "\u001b[31mInvalidArgumentError\u001b[39m: Graph execution error:\n\nTypeError: 'SparseTensor' object is not subscriptable\nTraceback (most recent call last):\n\n  File \"C:\\Users\\ASUS\\AppData\\Local\\Packages\\PythonSoftwareFoundation.Python.3.11_qbz5n2kfra8p0\\LocalCache\\local-packages\\Python311\\site-packages\\tensorflow\\python\\ops\\script_ops.py\", line 265, in __call__\n    return func(device, token, args)\n           ^^^^^^^^^^^^^^^^^^^^^^^^^\n\n  File \"C:\\Users\\ASUS\\AppData\\Local\\Packages\\PythonSoftwareFoundation.Python.3.11_qbz5n2kfra8p0\\LocalCache\\local-packages\\Python311\\site-packages\\tensorflow\\python\\ops\\script_ops.py\", line 143, in __call__\n    outputs = self._call(device, args)\n              ^^^^^^^^^^^^^^^^^^^^^^^^\n\n  File \"C:\\Users\\ASUS\\AppData\\Local\\Packages\\PythonSoftwareFoundation.Python.3.11_qbz5n2kfra8p0\\LocalCache\\local-packages\\Python311\\site-packages\\tensorflow\\python\\ops\\script_ops.py\", line 150, in _call\n    ret = self._func(*args)\n          ^^^^^^^^^^^^^^^^^\n\n  File \"C:\\Users\\ASUS\\AppData\\Local\\Packages\\PythonSoftwareFoundation.Python.3.11_qbz5n2kfra8p0\\LocalCache\\local-packages\\Python311\\site-packages\\tensorflow\\python\\autograph\\impl\\api.py\", line 642, in wrapper\n    return func(*args, **kwargs)\n           ^^^^^^^^^^^^^^^^^^^^^\n\n  File \"C:\\Users\\ASUS\\AppData\\Local\\Packages\\PythonSoftwareFoundation.Python.3.11_qbz5n2kfra8p0\\LocalCache\\local-packages\\Python311\\site-packages\\keras\\engine\\data_adapter.py\", line 512, in py_method\n    return [slice_array(inp) for inp in flat_inputs]\n           ^^^^^^^^^^^^^^^^^^^^^^^^^^^^^^^^^^^^^^^^^\n\n  File \"C:\\Users\\ASUS\\AppData\\Local\\Packages\\PythonSoftwareFoundation.Python.3.11_qbz5n2kfra8p0\\LocalCache\\local-packages\\Python311\\site-packages\\keras\\engine\\data_adapter.py\", line 512, in <listcomp>\n    return [slice_array(inp) for inp in flat_inputs]\n            ^^^^^^^^^^^^^^^^\n\n  File \"C:\\Users\\ASUS\\AppData\\Local\\Packages\\PythonSoftwareFoundation.Python.3.11_qbz5n2kfra8p0\\LocalCache\\local-packages\\Python311\\site-packages\\keras\\engine\\data_adapter.py\", line 508, in slice_array\n    return training_utils.slice_arrays(\n           ^^^^^^^^^^^^^^^^^^^^^^^^^^^^\n\n  File \"C:\\Users\\ASUS\\AppData\\Local\\Packages\\PythonSoftwareFoundation.Python.3.11_qbz5n2kfra8p0\\LocalCache\\local-packages\\Python311\\site-packages\\keras\\engine\\training_utils.py\", line 47, in slice_arrays\n    entries = [[x[i : i + 1] for i in indices] for x in arrays]\n              ^^^^^^^^^^^^^^^^^^^^^^^^^^^^^^^^^^^^^^^^^^^^^^^^^\n\n  File \"C:\\Users\\ASUS\\AppData\\Local\\Packages\\PythonSoftwareFoundation.Python.3.11_qbz5n2kfra8p0\\LocalCache\\local-packages\\Python311\\site-packages\\keras\\engine\\training_utils.py\", line 47, in <listcomp>\n    entries = [[x[i : i + 1] for i in indices] for x in arrays]\n               ^^^^^^^^^^^^^^^^^^^^^^^^^^^^^^^\n\n  File \"C:\\Users\\ASUS\\AppData\\Local\\Packages\\PythonSoftwareFoundation.Python.3.11_qbz5n2kfra8p0\\LocalCache\\local-packages\\Python311\\site-packages\\keras\\engine\\training_utils.py\", line 47, in <listcomp>\n    entries = [[x[i : i + 1] for i in indices] for x in arrays]\n                ~^^^^^^^^^^^\n\nTypeError: 'SparseTensor' object is not subscriptable\n\n\n\t [[{{node EagerPyFunc}}]]\n\t [[IteratorGetNext]] [Op:__inference_train_function_1172]"
     ]
    }
   ],
   "source": [
    "from tensorflow.keras.models import Sequential\n",
    "from tensorflow.keras.layers import Dense, Dropout\n",
    "import time\n",
    "\n",
    "# --- 1. Pelatihan Model Artificial Neural Network (ANN) ---\n",
    "# Menggunakan Keras Sequential API untuk membuat jaringan saraf sederhana\n",
    "print(\"\\nMemulai pelatihan model Artificial Neural Network (ANN)...\")\n",
    "start_time = time.time()\n",
    "\n",
    "model_ann = Sequential()\n",
    "model_ann.add(Dense(128, input_dim=X_train.shape[1], activation='relu'))\n",
    "model_ann.add(Dropout(0.5))  # Mengurangi overfitting\n",
    "model_ann.add(Dense(64, activation='relu'))\n",
    "model_ann.add(Dropout(0.5))\n",
    "model_ann.add(Dense(1, activation='sigmoid'))  # Untuk klasifikasi biner\n",
    "\n",
    "model_ann.compile(loss='binary_crossentropy', optimizer='adam', metrics=['accuracy'])\n",
    "\n",
    "# Latih model ANN dengan data pelatihan\n",
    "history_ann = model_ann.fit(X_train, y_train, epochs=10, batch_size=32, validation_data=(X_test, y_test), verbose=1)\n",
    "\n",
    "end_time = time.time()\n",
    "print(f\"Pelatihan model ANN selesai dalam {end_time - start_time:.2f} detik!\")\n",
    "\n",
    "# --- 2. Evaluasi Model ANN ---\n",
    "print(\"\\nMelakukan evaluasi model ANN pada data pengujian...\")\n",
    "y_pred_ann = (model_ann.predict(X_test) > 0.5).astype(\"int32\")\n",
    "\n",
    "print(\"\\nLaporan Klasifikasi ANN:\")\n",
    "print(classification_report(y_test, y_pred_ann, target_names=['negative', 'positive']))\n",
    "\n",
    "accuracy_ann = accuracy_score(y_test, y_pred_ann)\n",
    "print(f\"Akurasi Model ANN: {accuracy_ann:.4f}\")\n",
    "\n",
    "print(\"\\nModel ANN telah dilatih dan dievaluasi.\")\n"
   ]
  },
  {
   "cell_type": "markdown",
   "id": "92b7dc5e",
   "metadata": {},
   "source": [
    "### **C. MODEL XGBClassifier (XGBoost)**"
   ]
  },
  {
   "cell_type": "code",
   "execution_count": null,
   "id": "4704e3c6",
   "metadata": {},
   "outputs": [
    {
     "name": "stdout",
     "output_type": "stream",
     "text": [
      "\n",
      "Memulai pelatihan model XGBoost...\n"
     ]
    },
    {
     "name": "stderr",
     "output_type": "stream",
     "text": [
      "c:\\Users\\ASUS\\AppData\\Local\\Programs\\Python\\Python310\\lib\\site-packages\\xgboost\\training.py:183: UserWarning: [21:54:23] WARNING: C:\\actions-runner\\_work\\xgboost\\xgboost\\src\\learner.cc:738: \n",
      "Parameters: { \"use_label_encoder\" } are not used.\n",
      "\n",
      "  bst.update(dtrain, iteration=i, fobj=obj)\n"
     ]
    }
   ],
   "source": [
    "from xgboost import XGBClassifier\n",
    "from sklearn.metrics import classification_report, accuracy_score\n",
    "import time\n",
    "\n",
    "# --- 1. Pelatihan Model XGBoost ---\n",
    "# XGBoost adalah algoritma boosting yang sangat efektif untuk klasifikasi\n",
    "print(\"\\nMemulai pelatihan model XGBoost...\")\n",
    "start_time = time.time()\n",
    "\n",
    "model_xgb = XGBClassifier(use_label_encoder=False, eval_metric='logloss', random_state=42)\n",
    "model_xgb.fit(X_train, y_train)\n",
    "\n",
    "end_time = time.time()\n",
    "print(f\"Pelatihan model XGBoost selesai dalam {end_time - start_time:.2f} detik!\")\n",
    "\n",
    "# --- 2. Evaluasi Model XGBoost ---\n",
    "print(\"\\nMelakukan evaluasi model XGBoost pada data pengujian...\")\n",
    "y_pred_xgb = model_xgb.predict(X_test)\n",
    "\n",
    "print(\"\\nLaporan Klasifikasi XGBoost:\")\n",
    "print(classification_report(y_test, y_pred_xgb, target_names=['negative', 'positive']))\n",
    "\n",
    "accuracy_xgb = accuracy_score(y_test, y_pred_xgb)\n",
    "print(f\"Akurasi Model XGBoost: {accuracy_xgb:.4f}\")\n",
    "\n",
    "print(\"\\nModel XGBoost telah dilatih dan dievaluasi.\")\n"
   ]
  },
  {
   "cell_type": "markdown",
   "id": "74f20f5f",
   "metadata": {},
   "source": [
    "## CONFUSION MATRIKS"
   ]
  },
  {
   "cell_type": "code",
   "execution_count": null,
   "id": "d6c4a30d",
   "metadata": {},
   "outputs": [
    {
     "data": {
      "image/png": "[encoded data removed]",
      "text/plain": [
       "<Figure size 500x400 with 2 Axes>"
      ]
     },
     "metadata": {},
     "output_type": "display_data"
    },
    {
     "data": {
      "image/png": "[encoded data removed]",
      "text/plain": [
       "<Figure size 500x400 with 2 Axes>"
      ]
     },
     "metadata": {},
     "output_type": "display_data"
    },
    {
     "data": {
      "image/png": "[encoded data removed]",
      "text/plain": [
       "<Figure size 500x400 with 2 Axes>"
      ]
     },
     "metadata": {},
     "output_type": "display_data"
    }
   ],
   "source": [
    "from sklearn.metrics import confusion_matrix\n",
    "import seaborn as sns\n",
    "import matplotlib.pyplot as plt\n",
    "\n",
    "def plot_confusion(cm, title):\n",
    "    plt.figure(figsize=(5, 4))\n",
    "    sns.heatmap(cm, annot=True, fmt='d', cmap='Blues', xticklabels=['Negative', 'Positive'], yticklabels=['Negative', 'Positive'])\n",
    "    plt.title(f'Confusion Matrix - {title}')\n",
    "    plt.xlabel('Predicted Label')\n",
    "    plt.ylabel('True Label')\n",
    "    plt.show()\n",
    "\n",
    "# --- Confusion Matrix SVM ---\n",
    "cm_svm = confusion_matrix(y_test, y_pred_svm)\n",
    "plot_confusion(cm_svm, \"SVM\")\n",
    "\n",
    "# --- Confusion Matrix ANN ---\n",
    "cm_ann = confusion_matrix(y_test, y_pred_ann)\n",
    "plot_confusion(cm_ann, \"ANN\")\n",
    "\n",
    "# --- Confusion Matrix XGBoost ---\n",
    "cm_xgb = confusion_matrix(y_test, y_pred_xgb)\n",
    "plot_confusion(cm_xgb, \"XGBoost\")"
   ]
  },
  {
   "cell_type": "markdown",
   "id": "414bedee",
   "metadata": {},
   "source": [
    "## Evaluasi Perbandingan Model"
   ]
  },
  {
   "cell_type": "code",
   "execution_count": null,
   "id": "ab4a702d",
   "metadata": {},
   "outputs": [
    {
     "name": "stdout",
     "output_type": "stream",
     "text": [
      "📊 Hasil Evaluasi Perbandingan Model:\n",
      "\n",
      "     Model  Accuracy  Precision    Recall  F1-Score\n",
      "0      SVM    0.8940   0.888802  0.902560  0.895628\n",
      "1      ANN    0.8812   0.874538  0.892241  0.883301\n",
      "2  XGBoost    0.8545   0.841594  0.876166  0.858532\n",
      "\n",
      "✅ Model terbaik berdasarkan F1-Score adalah: **SVM**\n",
      "Akurasi: 0.8940 | F1-Score: 0.8956\n"
     ]
    }
   ],
   "source": [
    "from sklearn.metrics import accuracy_score, precision_score, recall_score, f1_score\n",
    "import pandas as pd\n",
    "\n",
    "# Fungsi bantu evaluasi model\n",
    "def evaluate_model(name, y_true, y_pred):\n",
    "    return {\n",
    "        \"Model\": name,\n",
    "        \"Accuracy\": accuracy_score(y_true, y_pred),\n",
    "        \"Precision\": precision_score(y_true, y_pred),\n",
    "        \"Recall\": recall_score(y_true, y_pred),\n",
    "        \"F1-Score\": f1_score(y_true, y_pred)\n",
    "    }\n",
    "\n",
    "# Kumpulkan hasil evaluasi\n",
    "results = [\n",
    "    evaluate_model(\"SVM\", y_test, y_pred_svm),\n",
    "    evaluate_model(\"ANN\", y_test, y_pred_ann),\n",
    "    evaluate_model(\"XGBoost\", y_test, y_pred_xgb)\n",
    "]\n",
    "\n",
    "# Tampilkan hasil evaluasi dalam DataFrame\n",
    "df_results = pd.DataFrame(results)\n",
    "df_results_sorted = df_results.sort_values(by=\"F1-Score\", ascending=False).reset_index(drop=True)\n",
    "\n",
    "print(\"📊 Hasil Evaluasi Perbandingan Model:\\n\")\n",
    "print(df_results_sorted)\n",
    "\n",
    "# Simpulkan model terbaik\n",
    "best_model = df_results_sorted.iloc[0]\n",
    "print(f\"\\n✅ Model terbaik berdasarkan F1-Score adalah: **{best_model['Model']}**\")\n",
    "print(f\"Akurasi: {best_model['Accuracy']:.4f} | F1-Score: {best_model['F1-Score']:.4f}\")\n"
   ]
  },
  {
   "cell_type": "code",
   "execution_count": null,
   "id": "3e624b2f",
   "metadata": {},
   "outputs": [],
   "source": [
    "# --- Akurasi dari masing-masing model (pastikan sudah dihitung sebelumnya) ---\n",
    "accuracy_svm = accuracy_score(y_test, y_pred_svm)\n",
    "accuracy_ann = accuracy_score(y_test, y_pred_ann)\n",
    "accuracy_xgb = accuracy_score(y_test, y_pred_xgb)\n",
    "\n",
    "# --- Plot Perbandingan Akurasi ---\n",
    "model_names = ['SVM', 'ANN', 'XGBoost']\n",
    "accuracies = [accuracy_svm, accuracy_ann, accuracy_xgb]\n",
    "\n",
    "plt.figure(figsize=(8, 5))\n",
    "bars = plt.bar(model_names, accuracies, color=['royalblue', 'lightcoral', 'darkorange'])\n",
    "\n",
    "# Menampilkan nilai akurasi di atas bar\n",
    "for bar, acc in zip(bars, accuracies):\n",
    "    yval = bar.get_height()\n",
    "    plt.text(bar.get_x() + bar.get_width()/2, yval + 0.01, f\"{acc:.2f}\", ha='center', fontsize=12)\n",
    "\n",
    "plt.title(\"Perbandingan Akurasi Model\")\n",
    "plt.ylabel(\"Akurasi\")\n",
    "plt.ylim(0, 1.1)\n",
    "plt.grid(axis='y', linestyle='--', linewidth=0.5)\n",
    "plt.tight_layout()\n",
    "plt.show()\n"
   ]
  },
  {
   "cell_type": "markdown",
   "id": "ab6490a4",
   "metadata": {},
   "source": [
    "**Testing**"
   ]
  },
  {
   "cell_type": "code",
   "execution_count": null,
   "id": "81325eb9",
   "metadata": {},
   "outputs": [
    {
     "ename": "NameError",
     "evalue": "name 'preprocess_text' is not defined",
     "output_type": "error",
     "traceback": [
      "\u001b[31m---------------------------------------------------------------------------\u001b[39m",
      "\u001b[31mNameError\u001b[39m                                 Traceback (most recent call last)",
      "\u001b[36mCell\u001b[39m\u001b[36m \u001b[39m\u001b[32mIn[1]\u001b[39m\u001b[32m, line 9\u001b[39m\n\u001b[32m      2\u001b[39m text_sample = [\n\u001b[32m      3\u001b[39m     \u001b[33m\"\u001b[39m\u001b[33mIt was awful movie but i liked it.\u001b[39m\u001b[33m\"\u001b[39m,\n\u001b[32m      4\u001b[39m     \u001b[33m\"\u001b[39m\u001b[33mit was a good movie\u001b[39m\u001b[33m\"\u001b[39m,\n\u001b[32m      5\u001b[39m     \u001b[33m\"\u001b[39m\u001b[33mi think it was the only movie that I could see until the end because it wan\u001b[39m\u001b[33m'\u001b[39m\u001b[33mt like the other movies that I have ever seen\u001b[39m\u001b[33m\"\u001b[39m\n\u001b[32m      6\u001b[39m ]\n\u001b[32m      8\u001b[39m \u001b[38;5;66;03m# --- Pra-pemrosesan teks ---\u001b[39;00m\n\u001b[32m----> \u001b[39m\u001b[32m9\u001b[39m text_sample_cleaned = \u001b[43m[\u001b[49m\u001b[43mpreprocess_text\u001b[49m\u001b[43m(\u001b[49m\u001b[43mtext\u001b[49m\u001b[43m)\u001b[49m\u001b[43m \u001b[49m\u001b[38;5;28;43;01mfor\u001b[39;49;00m\u001b[43m \u001b[49m\u001b[43mtext\u001b[49m\u001b[43m \u001b[49m\u001b[38;5;129;43;01min\u001b[39;49;00m\u001b[43m \u001b[49m\u001b[43mtext_sample\u001b[49m\u001b[43m]\u001b[49m\n\u001b[32m     12\u001b[39m \u001b[38;5;66;03m# --- Transformasi teks menggunakan TF-IDF (pastikan vectorizer sudah fit sebelumnya) ---\u001b[39;00m\n\u001b[32m     13\u001b[39m text_sample_vectorized = tfidf_vectorizer.transform(text_sample_cleaned)\n",
      "\u001b[36mCell\u001b[39m\u001b[36m \u001b[39m\u001b[32mIn[1]\u001b[39m\u001b[32m, line 9\u001b[39m, in \u001b[36m<listcomp>\u001b[39m\u001b[34m(.0)\u001b[39m\n\u001b[32m      2\u001b[39m text_sample = [\n\u001b[32m      3\u001b[39m     \u001b[33m\"\u001b[39m\u001b[33mIt was awful movie but i liked it.\u001b[39m\u001b[33m\"\u001b[39m,\n\u001b[32m      4\u001b[39m     \u001b[33m\"\u001b[39m\u001b[33mit was a good movie\u001b[39m\u001b[33m\"\u001b[39m,\n\u001b[32m      5\u001b[39m     \u001b[33m\"\u001b[39m\u001b[33mi think it was the only movie that I could see until the end because it wan\u001b[39m\u001b[33m'\u001b[39m\u001b[33mt like the other movies that I have ever seen\u001b[39m\u001b[33m\"\u001b[39m\n\u001b[32m      6\u001b[39m ]\n\u001b[32m      8\u001b[39m \u001b[38;5;66;03m# --- Pra-pemrosesan teks ---\u001b[39;00m\n\u001b[32m----> \u001b[39m\u001b[32m9\u001b[39m text_sample_cleaned = [\u001b[43mpreprocess_text\u001b[49m(text) \u001b[38;5;28;01mfor\u001b[39;00m text \u001b[38;5;129;01min\u001b[39;00m text_sample]\n\u001b[32m     12\u001b[39m \u001b[38;5;66;03m# --- Transformasi teks menggunakan TF-IDF (pastikan vectorizer sudah fit sebelumnya) ---\u001b[39;00m\n\u001b[32m     13\u001b[39m text_sample_vectorized = tfidf_vectorizer.transform(text_sample_cleaned)\n",
      "\u001b[31mNameError\u001b[39m: name 'preprocess_text' is not defined"
     ]
    }
   ],
   "source": [
    "# --- Contoh teks ---\n",
    "text_sample = [\n",
    "    \"It was awful movie but i liked it.\",\n",
    "    \"it was a good movie\",\n",
    "    \"i think it was the only movie that I could see until the end because it wan't like the other movies that I have ever seen\"\n",
    "]\n",
    "\n",
    "# --- Pra-pemrosesan teks ---\n",
    "text_sample_cleaned = [preprocess_text(text) for text in text_sample]\n",
    "\n",
    "\n",
    "# --- Transformasi teks menggunakan TF-IDF (pastikan vectorizer sudah fit sebelumnya) ---\n",
    "text_sample_vectorized = tfidf_vectorizer.transform(text_sample_cleaned)\n",
    "\n",
    "# --- Prediksi dengan Model SVM ---\n",
    "pred_svm = svm_model.predict(text_sample_vectorized)\n",
    "print(\"\\n🔷 Prediksi dengan SVM:\")\n",
    "for i, prediction in enumerate(pred_svm):\n",
    "    print(f'Text: {text_sample[i]}')\n",
    "    print(f'Predicted Sentiment: {\"Positive\" if prediction == 1 else \"Negative\"}\\n')\n",
    "\n",
    "# --- Prediksi dengan Model ANN ---\n",
    "pred_ann = (model_ann.predict(text_sample_vectorized) > 0.5).astype(\"int32\")\n",
    "print(\"\\n🔷 Prediksi dengan ANN:\")\n",
    "for i, prediction in enumerate(pred_ann):\n",
    "    print(f'Text: {text_sample[i]}')\n",
    "    print(f'Predicted Sentiment: {\"Positive\" if prediction == 1 else \"Negative\"}\\n')\n",
    "\n",
    "# --- Prediksi dengan Model XGBoost ---\n",
    "pred_xgb = model_xgb.predict(text_sample_vectorized)\n",
    "print(\"\\n🔷 Prediksi dengan XGBoost:\")\n",
    "for i, prediction in enumerate(pred_xgb):\n",
    "    print(f'Text: {text_sample[i]}')\n",
    "    print(f'Predicted Sentiment: {\"Positive\" if prediction == 1 else \"Negative\"}\\n')\n"
   ]
  }
 ],
 "metadata": {
  "kernelspec": {
   "display_name": "Python 3",
   "language": "python",
   "name": "python3"
  },
  "language_info": {
   "codemirror_mode": {
    "name": "ipython",
    "version": 3
   },
   "file_extension": ".py",
   "mimetype": "text/x-python",
   "name": "python",
   "nbconvert_exporter": "python",
   "pygments_lexer": "ipython3",
   "version": "3.11.9"
  }
 },
 "nbformat": 4,
 "nbformat_minor": 5
}
