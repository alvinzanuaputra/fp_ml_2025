{
  "cells": [
    {
      "cell_type": "markdown",
      "metadata": {
        "id": "P1OLcVhgSP97"
      },
      "source": [
        "# **Load Dataset**"
      ]
    },
    {
      "cell_type": "code",
      "execution_count": 5,
      "metadata": {},
      "outputs": [
        {
          "name": "stdout",
          "output_type": "stream",
          "text": [
            "Dataset URL: https://www.kaggle.com/datasets/lakshmi25npathi/imdb-dataset-of-50k-movie-reviews\n",
            "License(s): other\n",
            "Downloading imdb-dataset-of-50k-movie-reviews.zip to c:\\Users\\ASUS\\Desktop\\KULIAH\\Pembelajaran Mesin\\FP\\MachineLearning\n",
            "\n"
          ]
        },
        {
          "name": "stderr",
          "output_type": "stream",
          "text": [
            "\n",
            "  0%|          | 0.00/25.7M [00:00<?, ?B/s]\n",
            "100%|██████████| 25.7M/25.7M [00:00<00:00, 683MB/s]\n"
          ]
        }
      ],
      "source": [
        "! kaggle datasets download -d lakshmi25npathi/imdb-dataset-of-50k-movie-reviews\n",
        "! unzip -o -q imdb-dataset-of-50k-movie-reviews.zip -d Data\n",
        "! rm imdb-dataset-of-50k-movie-reviews.zip"
      ]
    },
    {
      "cell_type": "code",
      "execution_count": 6,
      "metadata": {
        "colab": {
          "base_uri": "https://localhost:8080/"
        },
        "id": "Gd_2gmUTKjqt",
        "outputId": "a81429d1-82ca-47ac-f960-08e5ab526415"
      },
      "outputs": [
        {
          "name": "stdout",
          "output_type": "stream",
          "text": [
            "Dataset berhasil dimuat!\n",
            "\n",
            "Berikut 10 baris pertama dari dataset Anda:\n",
            "                                              review sentiment\n",
            "0  One of the other reviewers has mentioned that ...  positive\n",
            "1  A wonderful little production. <br /><br />The...  positive\n",
            "2  I thought this was a wonderful way to spend ti...  positive\n",
            "3  Basically there's a family where a little boy ...  negative\n",
            "4  Petter Mattei's \"Love in the Time of Money\" is...  positive\n",
            "\n",
            "Informasi umum tentang dataset:\n",
            "<class 'pandas.core.frame.DataFrame'>\n",
            "RangeIndex: 50000 entries, 0 to 49999\n",
            "Data columns (total 2 columns):\n",
            " #   Column     Non-Null Count  Dtype \n",
            "---  ------     --------------  ----- \n",
            " 0   review     50000 non-null  object\n",
            " 1   sentiment  50000 non-null  object\n",
            "dtypes: object(2)\n",
            "memory usage: 781.4+ KB\n",
            "\n",
            "Distribusi sentimen:\n",
            "sentiment\n",
            "positive    25000\n",
            "negative    25000\n",
            "Name: count, dtype: int64\n"
          ]
        }
      ],
      "source": [
        "import pandas as pd\n",
        "\n",
        "file_path = './Data/IMDB Dataset.csv'\n",
        "\n",
        "# Muat dataset ke dalam DataFrame Pandas\n",
        "try:\n",
        "    df = pd.read_csv(file_path)\n",
        "    print(\"Dataset berhasil dimuat!\")\n",
        "    print(\"\\nBerikut 10 baris pertama dari dataset Anda:\")\n",
        "    print(df.head())\n",
        "    print(\"\\nInformasi umum tentang dataset:\")\n",
        "    df.info()\n",
        "    print(\"\\nDistribusi sentimen:\")\n",
        "    print(df['sentiment'].value_counts())\n",
        "\n",
        "except FileNotFoundError:\n",
        "    print(f\"Error: File tidak ditemukan di '{file_path}'.\")\n",
        "    print(\"Pastikan Anda sudah mengunduh dan mengekstrak dataset dengan benar.\")\n",
        "    print(\"Coba periksa nama folder dan nama file CSV Anda di panel File Colab.\")"
      ]
    },
    {
      "cell_type": "markdown",
      "metadata": {
        "id": "DZqe6zBgMCm8"
      },
      "source": [
        "**Penjelasan Kode di Atas :** <br>\n",
        "1. `import pandas as pd` : Mengimpor library Pandas, yang sangat penting untuk bekerja dengan data tabular. <br>\n",
        "2. `file_path = 'imdb_dataset/IMDB Dataset.csv'` : Mendefinisikan jalur ke file CSV Anda. Pastikan imdb_dataset adalah nama folder tempat Anda mengekstrak file, dan IMDB Dataset.csv adalah nama file CSV-nya. Anda bisa memeriksa ini di panel \"Files\" di sebelah kiri Google Colab. <br>\n",
        "3. `df = pd.read_csv(file_path)` : Membaca file CSV dan menyimpannya sebagai DataFrame Pandas bernama df.\n",
        "4. `df.head()` : Menampilkan 5 baris pertama dari DataFrame Anda. Ini sangat berguna untuk melihat format data.\n",
        "5. `df.info()` : Memberikan ringkasan informasi DataFrame, termasuk jumlah entri non-null untuk setiap kolom dan tipe data. Ini membantu mengidentifikasi nilai yang hilang atau tipe data yang salah.\n",
        "6. `df['sentiment'].value_counts()` : Menghitung berapa banyak ulasan yang memiliki sentimen 'positive' dan 'negative'. Ini penting untuk melihat apakah dataset Anda seimbang atau tidak.\n",
        "\n",
        "\n",
        "---\n",
        "\n"
      ]
    },
    {
      "cell_type": "markdown",
      "metadata": {
        "id": "Pdz2B3a6SK-v"
      },
      "source": [
        "# **Pre-Processing**"
      ]
    },
    {
      "cell_type": "code",
      "execution_count": 7,
      "metadata": {
        "colab": {
          "base_uri": "https://localhost:8080/"
        },
        "id": "PtExXkL6NFk0",
        "outputId": "9fe4bed5-456c-47a1-b7f3-8e768d398dd5"
      },
      "outputs": [
        {
          "name": "stdout",
          "output_type": "stream",
          "text": [
            "Memeriksa dan mengunduh resource NLTK yang diperlukan...\n",
            "Resource NLTK siap.\n",
            "\n",
            "Fungsi `preprocess_text` berhasil didefinisikan.\n",
            "\n",
            "\n",
            "Menerapkan pra-pemrosesan ke seluruh kolom 'review' di DataFrame...\n",
            "Proses ini mungkin membutuhkan waktu beberapa menit (sekitar 50.000 baris).\n",
            "\n",
            "Pra-pemrosesan selesai dalam 27.82 detik!\n",
            "\n",
            "Berikut 5 baris pertama DataFrame setelah pra-pemrosesan:\n",
            "                                              review  \\\n",
            "0  One of the other reviewers has mentioned that ...   \n",
            "1  A wonderful little production. <br /><br />The...   \n",
            "2  I thought this was a wonderful way to spend ti...   \n",
            "3  Basically there's a family where a little boy ...   \n",
            "4  Petter Mattei's \"Love in the Time of Money\" is...   \n",
            "\n",
            "                                    processed_review sentiment  \n",
            "0  one reviewer mentioned watching oz episode you...  positive  \n",
            "1  wonderful little production filming technique ...  positive  \n",
            "2  thought wonderful way spend time hot summer we...  positive  \n",
            "3  basically there family little boy jake think t...  negative  \n",
            "4  petter matteis love time money visually stunni...  positive  \n",
            "\n",
            "Distribusi sentimen setelah pra-pemrosesan:\n",
            "sentiment\n",
            "positive    25000\n",
            "negative    25000\n",
            "Name: count, dtype: int64\n"
          ]
        }
      ],
      "source": [
        "import pandas as pd\n",
        "import re\n",
        "import nltk\n",
        "from nltk.corpus import stopwords\n",
        "from nltk.stem import WordNetLemmatizer\n",
        "import time # Untuk mengukur waktu pra-pemrosesan\n",
        "\n",
        "# Unduh resource NLTK yang diperlukan.\n",
        "print(\"Memeriksa dan mengunduh resource NLTK yang diperlukan...\")\n",
        "nltk.download('stopwords', quiet=True)\n",
        "nltk.download('wordnet', quiet=True)\n",
        "print(\"Resource NLTK siap.\")\n",
        "\n",
        "# Inisialisasi Tool Pra-pemrosesan\n",
        "lemmatizer = WordNetLemmatizer()\n",
        "stop_words = set(stopwords.words('english'))\n",
        "\n",
        "# Definisikan Fungsi Pra-pemrosesan\n",
        "def preprocess_text(text):\n",
        "    # 1. Lowercasing : mengubah semua karakter menjadi lowercase\n",
        "    text = text.lower()\n",
        "\n",
        "    # 2. Pembersihan Teks\n",
        "    text = re.sub(r'<.*?>', '', text)    # Menghapus tag HTML (e.g., <br />, <p>)\n",
        "    text = re.sub(r'[^a-z\\s]', '', text) # Menghapus tanda baca, angka, dan karakter non-alfabet (hanya mempertahankan huruf dan spasi)\n",
        "\n",
        "    # 3. Tokenisasi : Memisahkan teks menjadi kata-kata individual berdasarkan spasi\n",
        "    words = text.split()\n",
        "\n",
        "    # 4. Stopword Removal & 5. Lemmatization\n",
        "    processed_words = []\n",
        "    for word in words:\n",
        "        # Hanya proses kata yang bukan stopword\n",
        "        if word not in stop_words:\n",
        "            # Mengubah kata ke bentuk dasar (lemma)\n",
        "            processed_words.append(lemmatizer.lemmatize(word))\n",
        "\n",
        "    # Menggabungkan kembali kata-kata menjadi satu string\n",
        "    return ' '.join(processed_words)\n",
        "\n",
        "print(\"\\nFungsi `preprocess_text` berhasil didefinisikan.\\n\")\n",
        "\n",
        "# 5. Menampilkan Proses Pra-pemrosesan\n",
        "print(\"\\nMenerapkan pra-pemrosesan ke seluruh kolom 'review' di DataFrame...\")\n",
        "print(\"Proses ini mungkin membutuhkan waktu beberapa menit (sekitar 50.000 baris).\")\n",
        "\n",
        "start_time = time.time()\n",
        "df['processed_review'] = df['review'].apply(preprocess_text)\n",
        "end_time = time.time()\n",
        "\n",
        "print(f\"\\nPra-pemrosesan selesai dalam {end_time - start_time:.2f} detik!\")\n",
        "\n",
        "# 6. Tampilkan Hasil Pra-pemrosesan\n",
        "print(\"\\nBerikut 5 baris pertama DataFrame setelah pra-pemrosesan:\")\n",
        "# Tampilkan kolom asli, kolom yang diproses, dan sentimen\n",
        "print(df[['review', 'processed_review', 'sentiment']].head())\n",
        "\n",
        "print(\"\\nDistribusi sentimen setelah pra-pemrosesan:\")\n",
        "print(df['sentiment'].value_counts())"
      ]
    },
    {
      "cell_type": "markdown",
      "metadata": {
        "id": "mbe7B3rgNKnj"
      },
      "source": [
        "**Penjelasan Kode Pra-Pemrosesan :** <br>\n",
        "1. Mempersiapkan Library dan Resource NLTK<br>\n",
        "  - `import pandas, re, nltk, stopwords, WordNetLemmatizer, time` : Mengimpor library yang dibutuhkan untuk manipulasi data (Pandas), ekspresi reguler (re), dan pemrosesan bahasa alami (NLTK). time digunakan untuk menghitung durasi proses.\n",
        "  - `nltk.download('stopwords') & nltk.download('wordnet')` : Mengunduh resource stopwords (daftar kata umum yang tidak relevan) dan wordnet (database leksikal untuk lemmatization) dari NLTK. Ini penting agar fungsi pra-pemrosesan berjalan.\n",
        "2. Inisialisasi Tool <br>\n",
        "  - `lemmatizer = WordNetLemmatizer()` : Menyiapkan alat untuk mengubah kata ke bentuk dasarnya (misal: \"running\" jadi \"run\").\n",
        "  - `stop_words = set(stopwords.words('english'))` : Memuat daftar kata-kata penghenti dalam Bahasa Inggris yang akan dihapus dari teks.\n",
        "3. Fungsi preprocess_text()<br>\n",
        "Ini adalah jantung dari pra-pemrosesan, yang menerapkan lima langkah pre-processing :\n",
        "  - `text.lower()` : Mengubah semua huruf menjadi huruf kecil.\n",
        "  - `re.sub(r'<.*?>', '', text)`: Menghapus semua tag HTML (seperti `<br />`).\n",
        "  - `re.sub(r'[^a-z\\s]', '', text)` : Menghapus semua tanda baca, angka, dan karakter non-huruf; hanya menyisakan huruf alfabet dan spasi.\n",
        "  - `text.split()` : Memecah kalimat menjadi kata-kata individual (tokenisasi).\n",
        "  - `if word not in stop_words` : Membuang kata-kata penghenti (Stopword Removal).\n",
        "  - `lemmatizer.lemmatize(word)` : Mengubah kata ke bentuk dasarnya (Lemmatization).\n",
        "  - `' '.join(processed_words)` : Menggabungkan kembali kata-kata yang sudah bersih menjadi satu string.\n",
        "\n",
        "\n",
        "---\n",
        "\n"
      ]
    },
    {
      "cell_type": "markdown",
      "metadata": {
        "id": "F8Nj0nQXSEKD"
      },
      "source": [
        "# **Vektorisasi Teks: Mengubah Kata Menjadi Angka**"
      ]
    },
    {
      "cell_type": "markdown",
      "metadata": {
        "id": "o4p8jg3gSWF9"
      },
      "source": [
        "<p align='justify'>Model machine learning seperti SVM ***tidak bisa langsung memahami teks***; model hanya bisa bekerja dengan angka. Jadi, langkah selanjutnya adalah vektorisasi teks, yaitu mengubah kata-kata menjadi representasi numerik.</p>\n",
        "\n",
        "**Metode TF-IDF (Term Frequency-Inverse Document Frequency)** <p align='justify'>TF-IDF memberikan bobot pada setiap kata berdasarkan frekuensinya dalam satu dokumen dan seberapa jarang kata tersebut muncul di seluruh korpus. Tujuannya adalah menyoroti kata-kata penting yang relevan untuk sentimen.</p>\n",
        "\n",
        "**Implementasi** <br>\n",
        "1. `TfidfVectorizer` dari `scikit-learn` digunakan.\n",
        "  - `min_df=5` mengabaikan kata yang muncul di kurang dari 5 dokumen (filter noise).\n",
        "  - `max_df=0.8` mengabaikan kata yang muncul di lebih dari 80% dokumen (filter kata terlalu umum).\n",
        "2. Matriks fitur X dibuat dengan `tfidf_vectorizer.fit_transform(df['processed_review'])`. Ini mengubah setiap ulasan menjadi vektor numerik berdasarkan bobot TF-IDF.\n",
        "3. Label sentimen (`positive, negative`) di-encode menjadi angka (1 untuk positif, 0 untuk negatif) dan disimpan sebagai vektor y.\n"
      ]
    },
    {
      "cell_type": "code",
      "execution_count": 8,
      "metadata": {
        "colab": {
          "base_uri": "https://localhost:8080/"
        },
        "id": "x77BR8ByTLqw",
        "outputId": "1a5f741a-f1be-402e-b298-199e7ab2e515"
      },
      "outputs": [
        {
          "name": "stdout",
          "output_type": "stream",
          "text": [
            "Memulai proses vektorisasi menggunakan TF-IDF...\n",
            "Bentuk matriks fitur (X): (50000, 36141)\n",
            "Jumlah fitur (kata unik) yang dihasilkan: 36141\n",
            "Bentuk vektor label (y): (50000,)\n",
            "\n",
            "Vektorisasi selesai! Data teks Anda sekarang dalam format numerik.\n",
            "\n",
            "Matriks fitur (X) dan vektor label (y) sudah siap.\n"
          ]
        }
      ],
      "source": [
        "from sklearn.feature_extraction.text import TfidfVectorizer\n",
        "\n",
        "# Inisialisasi TfidfVectorizer\n",
        "# min_df: mengabaikan kata-kata yang frekuensinya terlalu rendah (muncul di kurang dari 5 dokumen)\n",
        "# max_df: mengabaikan kata-kata yang frekuensinya terlalu tinggi (muncul di lebih dari 80% dokumen)\n",
        "# stopwords: tidak perlu diatur karena kita sudah menghapusnya di pra-pemrosesan\n",
        "tfidf_vectorizer = TfidfVectorizer(min_df=5, max_df=0.8)\n",
        "print(\"Memulai proses vektorisasi menggunakan TF-IDF...\")\n",
        "\n",
        "# Menerapkan TfidfVectorizer pada kolom 'processed_review'\n",
        "# fit_transform: mempelajari kosakata dari data dan mengubah teks menjadi matriks TF-IDF\n",
        "X = tfidf_vectorizer.fit_transform(df['processed_review'])\n",
        "\n",
        "# Tampilkan ukuran matriks hasil vektorisasi\n",
        "print(f\"Bentuk matriks fitur (X): {X.shape}\")\n",
        "print(f\"Jumlah fitur (kata unik) yang dihasilkan: {X.shape[1]}\")\n",
        "\n",
        "# Mengubah kolom 'sentiment' menjadi label numerik (0 dan 1)\n",
        "# 'negative' akan menjadi 0, 'positive' akan menjadi 1\n",
        "df['sentiment_encoded'] = df['sentiment'].apply(lambda x: 1 if x == 'positive' else 0)\n",
        "y = df['sentiment_encoded']\n",
        "\n",
        "print(f\"Bentuk vektor label (y): {y.shape}\")\n",
        "print(\"\\nVektorisasi selesai! Data teks Anda sekarang dalam format numerik.\")\n",
        "print(\"\\nMatriks fitur (X) dan vektor label (y) sudah siap.\")"
      ]
    },
    {
      "cell_type": "markdown",
      "metadata": {
        "id": "ZHDG-kPPUYFj"
      },
      "source": [
        "\n",
        "\n",
        "---\n",
        "\n"
      ]
    },
    {
      "cell_type": "markdown",
      "metadata": {
        "id": "edPo4ZZ4Uc09"
      },
      "source": [
        "# **Pembagian Data dan Pelatihan Model SVM.**\n",
        "Setelah data teks diubah menjadi representasi numerik melalui vektorisasi, kita tidak bisa langsung melatih model dengan seluruh data. Dataset perlu dibagi menjadi dua bagian: **data pelatihan (training data)** dan **data pengujian (testing data)**.\n",
        "- **Data Pelatihan** : Digunakan oleh model untuk belajar pola dan hubungan antara fitur (X) dan label (y).\n",
        "- **Data Pengujian** : Digunakan untuk mengevaluasi seberapa baik model yang telah dilatih dapat menggeneralisasi atau memprediksi data baru yang belum pernah dilihatnya. Ini memberikan gambaran yang lebih akurat tentang kinerja model di dunia nyata.<br>\n",
        "\n",
        "Pembagian ini penting untuk menghindari overfitting, di mana model terlalu menghafal data pelatihan dan gagal berkinerja baik pada data baru."
      ]
    },
    {
      "cell_type": "code",
      "execution_count": 9,
      "metadata": {
        "colab": {
          "base_uri": "https://localhost:8080/"
        },
        "id": "XBuZ1LTGU2h0",
        "outputId": "2336c0ac-cd7a-4db7-a6d1-1f22632c23aa"
      },
      "outputs": [
        {
          "name": "stdout",
          "output_type": "stream",
          "text": [
            "Memulai pembagian dataset menjadi data pelatihan dan pengujian...\n",
            "Ukuran data pelatihan (X_train): (40000, 36141)\n",
            "Ukuran label pelatihan (y_train): (40000,)\n",
            "Ukuran data pengujian (X_test): (10000, 36141)\n",
            "Ukuran label pengujian (y_test): (10000,)\n",
            "Pembagian dataset selesai.\n",
            "\n",
            "Memulai pelatihan model Support Vector Machine (LinearSVC)...\n",
            "Pelatihan model selesai dalam 1.86 detik!\n",
            "\n",
            "Melakukan evaluasi model pada data pengujian...\n",
            "\n",
            "Laporan Klasifikasi:\n",
            "              precision    recall  f1-score   support\n",
            "\n",
            "    negative       0.90      0.89      0.89      4961\n",
            "    positive       0.89      0.90      0.90      5039\n",
            "\n",
            "    accuracy                           0.89     10000\n",
            "   macro avg       0.89      0.89      0.89     10000\n",
            "weighted avg       0.89      0.89      0.89     10000\n",
            "\n",
            "Akurasi Model: 0.8941\n",
            "\n",
            "Model SVM telah dilatih dan dievaluasi.\n"
          ]
        }
      ],
      "source": [
        "from sklearn.model_selection import train_test_split\n",
        "from sklearn.svm import LinearSVC\n",
        "from sklearn.metrics import classification_report, accuracy_score\n",
        "import time\n",
        "\n",
        "# --- 1. Pembagian Data Pelatihan dan Pengujian ---\n",
        "# Membagi dataset menjadi training (80%) dan testing (20%)\n",
        "# random_state=42 memastikan hasil pembagian konsisten setiap kali kode dijalankan\n",
        "print(\"Memulai pembagian dataset menjadi data pelatihan dan pengujian...\")\n",
        "X_train, X_test, y_train, y_test = train_test_split(X, y, test_size=0.2, random_state=42)\n",
        "\n",
        "print(f\"Ukuran data pelatihan (X_train): {X_train.shape}\")\n",
        "print(f\"Ukuran label pelatihan (y_train): {y_train.shape}\")\n",
        "print(f\"Ukuran data pengujian (X_test): {X_test.shape}\")\n",
        "print(f\"Ukuran label pengujian (y_test): {y_test.shape}\")\n",
        "print(\"Pembagian dataset selesai.\")\n",
        "\n",
        "# --- 2. Pelatihan Model Support Vector Machine (SVM) ---\n",
        "# Menggunakan LinearSVC karena efisien untuk dataset besar dan fitur yang banyak\n",
        "print(\"\\nMemulai pelatihan model Support Vector Machine (LinearSVC)...\")\n",
        "start_time = time.time()\n",
        "\n",
        "svm_model = LinearSVC(random_state=42, dual=False) # dual=False direkomendasikan untuk n_samples > n_features\n",
        "svm_model.fit(X_train, y_train)\n",
        "\n",
        "end_time = time.time()\n",
        "print(f\"Pelatihan model selesai dalam {end_time - start_time:.2f} detik!\")\n",
        "\n",
        "# --- 3. Evaluasi Model ---\n",
        "print(\"\\nMelakukan evaluasi model pada data pengujian...\")\n",
        "y_pred = svm_model.predict(X_test)\n",
        "\n",
        "print(\"\\nLaporan Klasifikasi:\")\n",
        "print(classification_report(y_test, y_pred, target_names=['negative', 'positive']))\n",
        "\n",
        "accuracy = accuracy_score(y_test, y_pred)\n",
        "print(f\"Akurasi Model: {accuracy:.4f}\")\n",
        "\n",
        "print(\"\\nModel SVM telah dilatih dan dievaluasi.\")"
      ]
    },
    {
      "cell_type": "markdown",
      "metadata": {
        "id": "TRfwZIvxVdgZ"
      },
      "source": [
        "**Penjelasan Kode :** <br>\n",
        "\n",
        "1. **Pembagian Data** (`train_test_split`) :\n",
        "   - `X` adalah matriks fitur yang dihasilkan dari `TF-IDF`, dan `y` adalah label sentimen yang sudah di-encode.\n",
        "   - `test_size=0.2` berarti 20% dari total data akan digunakan sebagai data pengujian, dan sisanya (80%) sebagai data pelatihan.\n",
        "  - `random_state=42` adalah seed untuk randomizer. Ini memastikan bahwa setiap kali kode ini dijalankan, pembagian data akan selalu sama, sehingga hasil yang diperoleh dapat direproduksi.\n",
        "2. **Pelatihan Model SVM** (`LinearSVC`) :\n",
        "  - `LinearSVC` : Ini adalah implementasi Support Vector Classifier yang sangat efisien untuk kasus klasifikasi linear, terutama saat jumlah sampel (dokumen) dan fitur (kata-kata) sangat banyak, seperti pada dataset ini.\n",
        "  - `random_state=42` : memastikan bahwa setiap kali kode dijalankan, hasil pembagian data (seperti train_test_split) atau inisialisasi model (seperti LinearSVC) akan selalu sama, sehingga memungkinkan reproduksi hasil eksperimen yang konsisten. Boleh diganti angka berapapun tidak berpengaruh.\n",
        "  - `dual=False` : Pengaturan ini direkomendasikan ketika jumlah sampel (`n_samples`) lebih besar dari jumlah fitur (`n_features`), yang umumnya terjadi setelah vektorisasi TF-IDF pada dataset teks. Ini membuat pelatihan lebih cepat.\n",
        "  - `svm_model.fit(X_train, y_train)` : Model dilatih menggunakan data fitur (`X_train`) dan label yang sesuai (`y_train`) dari set pelatihan. Model akan belajar bagaimana membedakan antara sentimen positif dan negatif berdasarkan pola kata.\n",
        "3.**Evaluasi Model** :\n",
        "  - `y_pred = svm_model.predict(X_test)` : Model yang telah dilatih digunakan untuk memprediksi sentimen pada data pengujian (X_test) yang belum pernah dilihatnya.\n",
        "  - `classification_report`: Fungsi ini memberikan metrik evaluasi yang komprehensif, termasuk:\n",
        "    - **Presisi (Precision)**: Proporsi prediksi positif yang benar-benar positif.\n",
        "    - **Recall** : Proporsi positif sebenarnya yang berhasil diidentifikasi.\n",
        "    - **F1-Score** : Rata-rata harmonik dari presisi dan recall, ukuran keseimbangan.\n",
        "    - **Support** : Jumlah aktual dari setiap kelas di data pengujian.\n",
        "    - **accuracy_score** : Menghitung akurasi keseluruhan model, yaitu proporsi prediksi yang benar dari total prediksi\n",
        "\n",
        "\n",
        "---\n",
        "\n"
      ]
    },
    {
      "cell_type": "markdown",
      "metadata": {
        "id": "TKzRLnmVk0XR"
      },
      "source": [
        "# **Identifikasi Komponen Inti SVM**\n",
        "<p align='justify'>Model Support Vector Machine (SVM) bekerja dengan mencari hyperplane pemisah optimal. Komponen-komponen kuncinya diidentifikasi sebagai berikut dalam implementasi LinearSVC : </p>\n",
        "\n",
        "- **Bobot (w)** : Ini adalah vektor koefisien hyperplane yang menunjukkan arah pemisah. Dalam model LinearSVC, bobot dapat diakses melalui atribut svm_model.coef_.\n",
        "- **Margin (M)** : Merupakan jarak antara hyperplane dan support vector terdekat. Margin dihitung sebagai `M = 2 / ∥w∥` , di mana ∥w∥ adalah magnitudo vektor bobot.\n",
        "- **Support Vector (x+ dan x- )** : Adalah titik-titik data yang paling dekat dengan hyperplane dan krusial untuk definisinya. Perlu dicatat bahwa LinearSVC tidak secara langsung mengekspos support vector karena efisiensinya dalam menangani dataset besar, berbeda dengan `sklearn.svm.SVC`."
      ]
    },
    {
      "cell_type": "code",
      "execution_count": 10,
      "metadata": {
        "colab": {
          "base_uri": "https://localhost:8080/"
        },
        "id": "HPBIZODVkBzy",
        "outputId": "16e74b71-1655-472c-c46f-b3f325a44198"
      },
      "outputs": [
        {
          "name": "stdout",
          "output_type": "stream",
          "text": [
            "\n",
            "--- Analisis Bobot dan Margin SVM ---\n",
            "Bentuk vektor bobot (w): (36141,)\n",
            "\n",
            "Magnitudo vektor bobot (||w||): 77.6041\n",
            "Margin (M): 0.0258\n",
            "\n",
            "Analisis bobot dan margin selesai.\n"
          ]
        }
      ],
      "source": [
        "import numpy as np\n",
        "\n",
        "print(\"\\n--- Analisis Bobot dan Margin SVM ---\")\n",
        "\n",
        "# 1. Mengakses Bobot (w)\n",
        "weights = svm_model.coef_[0]\n",
        "print(f\"Bentuk vektor bobot (w): {weights.shape}\")\n",
        "\n",
        "# 2. Menghitung Margin (M)\n",
        "# M = 2 / ||w||\n",
        "norm_w = np.linalg.norm(weights)    #  menghitung norma Euclidean (magnitudo) dari vektor\n",
        "if norm_w != 0:                     #  memastikan tidak ada pembagian dengan nol\n",
        "    margin = 2 / norm_w\n",
        "    print(f\"\\nMagnitudo vektor bobot (||w||): {norm_w:.4f}\")\n",
        "    print(f\"Margin (M): {margin:.4f}\")\n",
        "else:\n",
        "    print(\"\\nMagnitudo vektor bobot adalah nol, tidak dapat menghitung margin.\")\n",
        "\n",
        "print(\"\\nAnalisis bobot dan margin selesai.\")"
      ]
    },
    {
      "cell_type": "markdown",
      "metadata": {
        "id": "g7zxNMpPlcP3"
      },
      "source": [
        "**Penjelasan Kode** :\n",
        "\n",
        "- `weights = svm_model.coef_[0]` : Mengekstrak nilai numerik dari bobot yang dipelajari model. Ini adalah representasi matematis dari bagaimana setiap fitur (kata) berkontribusi pada keputusan klasifikasi.\n",
        "- `norm_w = np.linalg.norm(weights)` : Menghitung panjang atau kekuatan total dari vektor bobot. Vektor bobot yang lebih \"pendek\" (norma lebih kecil) mengindikasikan margin yang lebih lebar.\n",
        "- `margin = 2 / norm_w` : Menerapkan rumus untuk menghitung lebar margin pemisah optimal yang ditemukan oleh SVM. Semakin besar nilai margin, semakin robust batas keputusan model.\n",
        "\n",
        "\n",
        "---\n",
        "\n"
      ]
    },
    {
      "cell_type": "markdown",
      "metadata": {},
      "source": [
        "## Model ANN dengan Keras"
      ]
    },
    {
      "cell_type": "code",
      "execution_count": 11,
      "metadata": {},
      "outputs": [
        {
          "name": "stdout",
          "output_type": "stream",
          "text": [
            "WARNING:tensorflow:Keras is training/fitting/evaluating on array-like data. Keras may not be optimized for this format, so if your input data format is supported by TensorFlow I/O (https://github.com/tensorflow/io) we recommend using that to load a Dataset instead.\n",
            "Epoch 1/10\n"
          ]
        },
        {
          "ename": "InvalidArgumentError",
          "evalue": "Graph execution error:\n\nTypeError: 'SparseTensor' object is not subscriptable\nTraceback (most recent call last):\n\n  File \"C:\\Users\\ASUS\\AppData\\Local\\Packages\\PythonSoftwareFoundation.Python.3.11_qbz5n2kfra8p0\\LocalCache\\local-packages\\Python311\\site-packages\\tensorflow\\python\\ops\\script_ops.py\", line 265, in __call__\n    return func(device, token, args)\n           ^^^^^^^^^^^^^^^^^^^^^^^^^\n\n  File \"C:\\Users\\ASUS\\AppData\\Local\\Packages\\PythonSoftwareFoundation.Python.3.11_qbz5n2kfra8p0\\LocalCache\\local-packages\\Python311\\site-packages\\tensorflow\\python\\ops\\script_ops.py\", line 143, in __call__\n    outputs = self._call(device, args)\n              ^^^^^^^^^^^^^^^^^^^^^^^^\n\n  File \"C:\\Users\\ASUS\\AppData\\Local\\Packages\\PythonSoftwareFoundation.Python.3.11_qbz5n2kfra8p0\\LocalCache\\local-packages\\Python311\\site-packages\\tensorflow\\python\\ops\\script_ops.py\", line 150, in _call\n    ret = self._func(*args)\n          ^^^^^^^^^^^^^^^^^\n\n  File \"C:\\Users\\ASUS\\AppData\\Local\\Packages\\PythonSoftwareFoundation.Python.3.11_qbz5n2kfra8p0\\LocalCache\\local-packages\\Python311\\site-packages\\tensorflow\\python\\autograph\\impl\\api.py\", line 642, in wrapper\n    return func(*args, **kwargs)\n           ^^^^^^^^^^^^^^^^^^^^^\n\n  File \"C:\\Users\\ASUS\\AppData\\Local\\Packages\\PythonSoftwareFoundation.Python.3.11_qbz5n2kfra8p0\\LocalCache\\local-packages\\Python311\\site-packages\\keras\\engine\\data_adapter.py\", line 512, in py_method\n    return [slice_array(inp) for inp in flat_inputs]\n           ^^^^^^^^^^^^^^^^^^^^^^^^^^^^^^^^^^^^^^^^^\n\n  File \"C:\\Users\\ASUS\\AppData\\Local\\Packages\\PythonSoftwareFoundation.Python.3.11_qbz5n2kfra8p0\\LocalCache\\local-packages\\Python311\\site-packages\\keras\\engine\\data_adapter.py\", line 512, in <listcomp>\n    return [slice_array(inp) for inp in flat_inputs]\n            ^^^^^^^^^^^^^^^^\n\n  File \"C:\\Users\\ASUS\\AppData\\Local\\Packages\\PythonSoftwareFoundation.Python.3.11_qbz5n2kfra8p0\\LocalCache\\local-packages\\Python311\\site-packages\\keras\\engine\\data_adapter.py\", line 508, in slice_array\n    return training_utils.slice_arrays(\n           ^^^^^^^^^^^^^^^^^^^^^^^^^^^^\n\n  File \"C:\\Users\\ASUS\\AppData\\Local\\Packages\\PythonSoftwareFoundation.Python.3.11_qbz5n2kfra8p0\\LocalCache\\local-packages\\Python311\\site-packages\\keras\\engine\\training_utils.py\", line 47, in slice_arrays\n    entries = [[x[i : i + 1] for i in indices] for x in arrays]\n              ^^^^^^^^^^^^^^^^^^^^^^^^^^^^^^^^^^^^^^^^^^^^^^^^^\n\n  File \"C:\\Users\\ASUS\\AppData\\Local\\Packages\\PythonSoftwareFoundation.Python.3.11_qbz5n2kfra8p0\\LocalCache\\local-packages\\Python311\\site-packages\\keras\\engine\\training_utils.py\", line 47, in <listcomp>\n    entries = [[x[i : i + 1] for i in indices] for x in arrays]\n               ^^^^^^^^^^^^^^^^^^^^^^^^^^^^^^^\n\n  File \"C:\\Users\\ASUS\\AppData\\Local\\Packages\\PythonSoftwareFoundation.Python.3.11_qbz5n2kfra8p0\\LocalCache\\local-packages\\Python311\\site-packages\\keras\\engine\\training_utils.py\", line 47, in <listcomp>\n    entries = [[x[i : i + 1] for i in indices] for x in arrays]\n                ~^^^^^^^^^^^\n\nTypeError: 'SparseTensor' object is not subscriptable\n\n\n\t [[{{node EagerPyFunc}}]]\n\t [[IteratorGetNext]] [Op:__inference_train_function_1172]",
          "output_type": "error",
          "traceback": [
            "\u001b[31m---------------------------------------------------------------------------\u001b[39m",
            "\u001b[31mInvalidArgumentError\u001b[39m                      Traceback (most recent call last)",
            "\u001b[36mCell\u001b[39m\u001b[36m \u001b[39m\u001b[32mIn[11]\u001b[39m\u001b[32m, line 16\u001b[39m\n\u001b[32m     13\u001b[39m model_ann.compile(loss=\u001b[33m'\u001b[39m\u001b[33mbinary_crossentropy\u001b[39m\u001b[33m'\u001b[39m, optimizer=\u001b[33m'\u001b[39m\u001b[33madam\u001b[39m\u001b[33m'\u001b[39m, metrics=[\u001b[33m'\u001b[39m\u001b[33maccuracy\u001b[39m\u001b[33m'\u001b[39m])\n\u001b[32m     15\u001b[39m \u001b[38;5;66;03m# Latih model\u001b[39;00m\n\u001b[32m---> \u001b[39m\u001b[32m16\u001b[39m history_ann = \u001b[43mmodel_ann\u001b[49m\u001b[43m.\u001b[49m\u001b[43mfit\u001b[49m\u001b[43m(\u001b[49m\u001b[43mX_train\u001b[49m\u001b[43m,\u001b[49m\u001b[43m \u001b[49m\u001b[43my_train\u001b[49m\u001b[43m,\u001b[49m\u001b[43m \u001b[49m\u001b[43mepochs\u001b[49m\u001b[43m=\u001b[49m\u001b[32;43m10\u001b[39;49m\u001b[43m,\u001b[49m\u001b[43m \u001b[49m\u001b[43mbatch_size\u001b[49m\u001b[43m=\u001b[49m\u001b[32;43m32\u001b[39;49m\u001b[43m,\u001b[49m\u001b[43m \u001b[49m\u001b[43mvalidation_data\u001b[49m\u001b[43m=\u001b[49m\u001b[43m(\u001b[49m\u001b[43mX_test\u001b[49m\u001b[43m,\u001b[49m\u001b[43m \u001b[49m\u001b[43my_test\u001b[49m\u001b[43m)\u001b[49m\u001b[43m)\u001b[49m\n\u001b[32m     18\u001b[39m \u001b[38;5;66;03m# Evaluasi\u001b[39;00m\n\u001b[32m     19\u001b[39m loss_ann, acc_ann = model_ann.evaluate(X_test, y_test)\n",
            "\u001b[36mFile \u001b[39m\u001b[32m~\\AppData\\Local\\Packages\\PythonSoftwareFoundation.Python.3.11_qbz5n2kfra8p0\\LocalCache\\local-packages\\Python311\\site-packages\\keras\\utils\\traceback_utils.py:70\u001b[39m, in \u001b[36mfilter_traceback.<locals>.error_handler\u001b[39m\u001b[34m(*args, **kwargs)\u001b[39m\n\u001b[32m     67\u001b[39m     filtered_tb = _process_traceback_frames(e.__traceback__)\n\u001b[32m     68\u001b[39m     \u001b[38;5;66;03m# To get the full stack trace, call:\u001b[39;00m\n\u001b[32m     69\u001b[39m     \u001b[38;5;66;03m# `tf.debugging.disable_traceback_filtering()`\u001b[39;00m\n\u001b[32m---> \u001b[39m\u001b[32m70\u001b[39m     \u001b[38;5;28;01mraise\u001b[39;00m e.with_traceback(filtered_tb) \u001b[38;5;28;01mfrom\u001b[39;00m\u001b[38;5;250m \u001b[39m\u001b[38;5;28;01mNone\u001b[39;00m\n\u001b[32m     71\u001b[39m \u001b[38;5;28;01mfinally\u001b[39;00m:\n\u001b[32m     72\u001b[39m     \u001b[38;5;28;01mdel\u001b[39;00m filtered_tb\n",
            "\u001b[36mFile \u001b[39m\u001b[32m~\\AppData\\Local\\Packages\\PythonSoftwareFoundation.Python.3.11_qbz5n2kfra8p0\\LocalCache\\local-packages\\Python311\\site-packages\\tensorflow\\python\\eager\\execute.py:52\u001b[39m, in \u001b[36mquick_execute\u001b[39m\u001b[34m(op_name, num_outputs, inputs, attrs, ctx, name)\u001b[39m\n\u001b[32m     50\u001b[39m \u001b[38;5;28;01mtry\u001b[39;00m:\n\u001b[32m     51\u001b[39m   ctx.ensure_initialized()\n\u001b[32m---> \u001b[39m\u001b[32m52\u001b[39m   tensors = pywrap_tfe.TFE_Py_Execute(ctx._handle, device_name, op_name,\n\u001b[32m     53\u001b[39m                                       inputs, attrs, num_outputs)\n\u001b[32m     54\u001b[39m \u001b[38;5;28;01mexcept\u001b[39;00m core._NotOkStatusException \u001b[38;5;28;01mas\u001b[39;00m e:\n\u001b[32m     55\u001b[39m   \u001b[38;5;28;01mif\u001b[39;00m name \u001b[38;5;129;01mis\u001b[39;00m \u001b[38;5;129;01mnot\u001b[39;00m \u001b[38;5;28;01mNone\u001b[39;00m:\n",
            "\u001b[31mInvalidArgumentError\u001b[39m: Graph execution error:\n\nTypeError: 'SparseTensor' object is not subscriptable\nTraceback (most recent call last):\n\n  File \"C:\\Users\\ASUS\\AppData\\Local\\Packages\\PythonSoftwareFoundation.Python.3.11_qbz5n2kfra8p0\\LocalCache\\local-packages\\Python311\\site-packages\\tensorflow\\python\\ops\\script_ops.py\", line 265, in __call__\n    return func(device, token, args)\n           ^^^^^^^^^^^^^^^^^^^^^^^^^\n\n  File \"C:\\Users\\ASUS\\AppData\\Local\\Packages\\PythonSoftwareFoundation.Python.3.11_qbz5n2kfra8p0\\LocalCache\\local-packages\\Python311\\site-packages\\tensorflow\\python\\ops\\script_ops.py\", line 143, in __call__\n    outputs = self._call(device, args)\n              ^^^^^^^^^^^^^^^^^^^^^^^^\n\n  File \"C:\\Users\\ASUS\\AppData\\Local\\Packages\\PythonSoftwareFoundation.Python.3.11_qbz5n2kfra8p0\\LocalCache\\local-packages\\Python311\\site-packages\\tensorflow\\python\\ops\\script_ops.py\", line 150, in _call\n    ret = self._func(*args)\n          ^^^^^^^^^^^^^^^^^\n\n  File \"C:\\Users\\ASUS\\AppData\\Local\\Packages\\PythonSoftwareFoundation.Python.3.11_qbz5n2kfra8p0\\LocalCache\\local-packages\\Python311\\site-packages\\tensorflow\\python\\autograph\\impl\\api.py\", line 642, in wrapper\n    return func(*args, **kwargs)\n           ^^^^^^^^^^^^^^^^^^^^^\n\n  File \"C:\\Users\\ASUS\\AppData\\Local\\Packages\\PythonSoftwareFoundation.Python.3.11_qbz5n2kfra8p0\\LocalCache\\local-packages\\Python311\\site-packages\\keras\\engine\\data_adapter.py\", line 512, in py_method\n    return [slice_array(inp) for inp in flat_inputs]\n           ^^^^^^^^^^^^^^^^^^^^^^^^^^^^^^^^^^^^^^^^^\n\n  File \"C:\\Users\\ASUS\\AppData\\Local\\Packages\\PythonSoftwareFoundation.Python.3.11_qbz5n2kfra8p0\\LocalCache\\local-packages\\Python311\\site-packages\\keras\\engine\\data_adapter.py\", line 512, in <listcomp>\n    return [slice_array(inp) for inp in flat_inputs]\n            ^^^^^^^^^^^^^^^^\n\n  File \"C:\\Users\\ASUS\\AppData\\Local\\Packages\\PythonSoftwareFoundation.Python.3.11_qbz5n2kfra8p0\\LocalCache\\local-packages\\Python311\\site-packages\\keras\\engine\\data_adapter.py\", line 508, in slice_array\n    return training_utils.slice_arrays(\n           ^^^^^^^^^^^^^^^^^^^^^^^^^^^^\n\n  File \"C:\\Users\\ASUS\\AppData\\Local\\Packages\\PythonSoftwareFoundation.Python.3.11_qbz5n2kfra8p0\\LocalCache\\local-packages\\Python311\\site-packages\\keras\\engine\\training_utils.py\", line 47, in slice_arrays\n    entries = [[x[i : i + 1] for i in indices] for x in arrays]\n              ^^^^^^^^^^^^^^^^^^^^^^^^^^^^^^^^^^^^^^^^^^^^^^^^^\n\n  File \"C:\\Users\\ASUS\\AppData\\Local\\Packages\\PythonSoftwareFoundation.Python.3.11_qbz5n2kfra8p0\\LocalCache\\local-packages\\Python311\\site-packages\\keras\\engine\\training_utils.py\", line 47, in <listcomp>\n    entries = [[x[i : i + 1] for i in indices] for x in arrays]\n               ^^^^^^^^^^^^^^^^^^^^^^^^^^^^^^^\n\n  File \"C:\\Users\\ASUS\\AppData\\Local\\Packages\\PythonSoftwareFoundation.Python.3.11_qbz5n2kfra8p0\\LocalCache\\local-packages\\Python311\\site-packages\\keras\\engine\\training_utils.py\", line 47, in <listcomp>\n    entries = [[x[i : i + 1] for i in indices] for x in arrays]\n                ~^^^^^^^^^^^\n\nTypeError: 'SparseTensor' object is not subscriptable\n\n\n\t [[{{node EagerPyFunc}}]]\n\t [[IteratorGetNext]] [Op:__inference_train_function_1172]"
          ]
        }
      ],
      "source": [
        "from tensorflow.keras.models import Sequential\n",
        "from tensorflow.keras.layers import Dense, Dropout\n",
        "\n",
        "# Buat model ANN\n",
        "model_ann = Sequential()\n",
        "model_ann.add(Dense(128, input_dim=X_train.shape[1], activation='relu'))\n",
        "model_ann.add(Dropout(0.5))\n",
        "model_ann.add(Dense(64, activation='relu'))\n",
        "model_ann.add(Dropout(0.5))\n",
        "model_ann.add(Dense(1, activation='sigmoid'))\n",
        "\n",
        "# Kompilasi\n",
        "model_ann.compile(loss='binary_crossentropy', optimizer='adam', metrics=['accuracy'])\n",
        "\n",
        "# Latih model\n",
        "history_ann = model_ann.fit(X_train, y_train, epochs=10, batch_size=32, validation_data=(X_test, y_test))\n",
        "\n",
        "# Evaluasi\n",
        "loss_ann, acc_ann = model_ann.evaluate(X_test, y_test)\n",
        "print(f\"Akurasi ANN: {acc_ann:.4f}\")\n"
      ]
    },
    {
      "cell_type": "markdown",
      "metadata": {},
      "source": [
        "## Model XGBoost"
      ]
    },
    {
      "cell_type": "code",
      "execution_count": null,
      "metadata": {},
      "outputs": [],
      "source": [
        "from xgboost import XGBClassifier\n",
        "from sklearn.metrics import classification_report, accuracy_score\n",
        "\n",
        "# Buat model XGBoost\n",
        "model_xgb = XGBClassifier(use_label_encoder=False, eval_metric='logloss')\n",
        "model_xgb.fit(X_train, y_train)\n",
        "\n",
        "# Prediksi dan evaluasi\n",
        "y_pred_xgb = model_xgb.predict(X_test)\n",
        "print(f\"Akurasi XGBoost: {accuracy_score(y_test, y_pred_xgb):.4f}\")\n",
        "print(classification_report(y_test, y_pred_xgb))\n"
      ]
    },
    {
      "cell_type": "markdown",
      "metadata": {
        "id": "Z7m2t8yoX6LD"
      },
      "source": [
        "# **Confusion Matrix Heatmap**\n",
        "<p align='justify'>Confusion Matrix menunjukkan jumlah prediksi yang benar dan salah untuk setiap kelas, memberikan gambaran detail tentang di mana model berkinerja baik dan di mana ia mungkin mengalami kesulitan. Heatmap akan membuatnya lebih mudah dibaca.</p>\n",
        "<p align='justify'>Confusion Matrix adalah tabel yang sering digunakan untuk menggambarkan kinerja model klasifikasi pada sekumpulan data uji yang label sebenarnya diketahui. Matriks ini memungkinkan identifikasi kesalahan dalam klasifikasi, membedakan antara prediksi yang benar (True Positives, True Negatives) dan prediksi yang salah (False Positives, False Negatives).</p>\n",
        "\n",
        "  - **True Positive (TP)** : Jumlah ulasan positif yang benar-benar diprediksi sebagai positif.\n",
        "  - **True Negative (TN)** : Jumlah ulasan negatif yang benar-benar diprediksi sebagai negatif.\n",
        "  - **False Positive (FP)** : Jumlah ulasan negatif yang salah diprediksi sebagai positif (Error Tipe I).\n",
        "  - **False Negative (FN)** : Jumlah ulasan positif yang salah diprediksi sebagai negatif (Error Tipe II)."
      ]
    },
    {
      "cell_type": "code",
      "execution_count": null,
      "metadata": {
        "colab": {
          "base_uri": "https://localhost:8080/",
          "height": 599
        },
        "id": "nqvC_bEpYzna",
        "outputId": "2d16433b-094a-4825-b1ec-e40ed87c4a6b"
      },
      "outputs": [
        {
          "data": {
            "image/png": "[encoded data removed]",
            "text/plain": [
              "<Figure size 800x600 with 2 Axes>"
            ]
          },
          "metadata": {},
          "output_type": "display_data"
        },
        {
          "name": "stdout",
          "output_type": "stream",
          "text": [
            "\n",
            "Confusion Matrix Heatmap berhasil dibuat dan ditampilkan.\n"
          ]
        }
      ],
      "source": [
        "import matplotlib.pyplot as plt\n",
        "import seaborn as sns\n",
        "from sklearn.metrics import confusion_matrix\n",
        "\n",
        "# Hitung Confusion Matrix\n",
        "cm = confusion_matrix(y_test, y_pred)\n",
        "\n",
        "# Definisikan nama kelas\n",
        "class_labels = ['Negative', 'Positive']\n",
        "\n",
        "# Buat Confusion Matrix Heatmap\n",
        "plt.figure(figsize=(8, 6)) # Ukuran plot\n",
        "sns.heatmap(cm, annot=True, fmt='d', cmap='Blues',\n",
        "            xticklabels=class_labels, yticklabels=class_labels)\n",
        "plt.title('Confusion Matrix for SVM Sentiment Classification')\n",
        "plt.xlabel('Predicted Label')\n",
        "plt.ylabel('True Label')\n",
        "plt.show()\n",
        "\n",
        "print(\"\\nConfusion Matrix Heatmap berhasil dibuat dan ditampilkan.\")"
      ]
    },
    {
      "cell_type": "markdown",
      "metadata": {
        "id": "0xwtzGjxZPN6"
      },
      "source": [
        "**Laporan Kesimpulan Analisis Confusion Matrix** <br>\n",
        "Confusion Matrix menunjukkan model SVM memiliki kinerja klasifikasi sentimen yang sangat baik dan seimbang.\n",
        "- Dari 5000 ulasan negatif, 4392 diprediksi benar (True Negative), dengan 569 salah diprediksi positif (False Positive).\n",
        "- Dari 5000 ulasan positif, 4548 diprediksi benar (True Positive), dengan 491 salah diprediksi negatif (False Negative).\n",
        "\n",
        "<p align='justify'>Hal ini mengindikasikan akurasi model tinggi dan kesalahan klasifikasi yang relatif rendah serta merata untuk kedua kelas sentimen, menunjukkan kemampuan model yang kuat dalam membedakan ulasan positif dan negatif. </p>\n",
        "\n",
        "\n",
        "---\n",
        "\n"
      ]
    },
    {
      "cell_type": "markdown",
      "metadata": {
        "id": "ajskMaH3dtLA"
      },
      "source": [
        "# **Evaluasi Review**\n",
        "\n",
        "<p align='justify'>Program didesain untuk melakukan satu kali pengujian klasifikasi sentimen terhadap ulasan film yang diinputkan oleh pengguna. Modul ini mengintegrasikan tahapan pra-pemrosesan, vektorisasi, dan prediksi model yang telah dikembangkan sebelumnya.</p>"
      ]
    },
    {
      "cell_type": "code",
      "execution_count": null,
      "metadata": {
        "colab": {
          "base_uri": "https://localhost:8080/"
        },
        "id": "JOjdvwDFaUw7",
        "outputId": "ed4c3128-c149-4e39-e17d-9fa676e1baa9"
      },
      "outputs": [
        {
          "name": "stdout",
          "output_type": "stream",
          "text": [
            "\n",
            "===========================================================================\n",
            "MODUL PREDIKSI SENTIMEN ULASAN FILM\n",
            "===========================================================================\n",
            "Masukkan ulasan film yang ingin diprediksi sentimennya: I will watch this movie again.\n",
            "Prediksi Sentimen Model : Positive\n",
            "\n",
            "===========================================================================\n",
            "PREDIKSI SELESAI\n",
            "===========================================================================\n"
          ]
        }
      ],
      "source": [
        "def predict_sentiment_for_eval(review_text):\n",
        "    processed_input = preprocess_text(review_text)\n",
        "    input_vectorized = tfidf_vectorizer.transform([processed_input])\n",
        "    prediction = svm_model.predict(input_vectorized)\n",
        "    return \"Positive\" if prediction[0] == 1 else \"Negative\"\n",
        "\n",
        "# --- Modul Prediksi Sentimen Sederhana ---\n",
        "print(\"\\n\" + \"=\"*75)\n",
        "print(\"MODUL PREDIKSI SENTIMEN ULASAN FILM\")\n",
        "print(\"=\"*75)\n",
        "\n",
        "user_review = input(\"Masukkan ulasan film yang ingin diprediksi sentimennya: \")\n",
        "\n",
        "# Prediksi sentimen oleh model\n",
        "predicted_sentiment = predict_sentiment_for_eval(user_review)\n",
        "print(f\"Prediksi Sentimen Model : {predicted_sentiment}\")\n",
        "\n",
        "print(\"\\n\" + \"=\"*75)\n",
        "print(\"PREDIKSI SELESAI\")\n",
        "print(\"=\"*75)"
      ]
    },
    {
      "cell_type": "markdown",
      "metadata": {
        "id": "Zh9skY37ekr3"
      },
      "source": [
        "**Penjelasan Kode** :\n",
        "1. **Fungsi** `predict_sentiment_for_eval()\n",
        "  - Tujuan : Mengklasifikasikan sentimen dari teks ulasan tunggal.\n",
        "  - Alur :\n",
        "    - Menerima `review_text` (ulasan pengguna).\n",
        "    - Memanggil `preprocess_text()` untuk preprocessing review dari user.\n",
        "    - Menggunakan `tfidf_vectorizer.transform()` untuk mengubah ulasan yang sudah di pre-processing menjadi format numerik (vektor fitur).\n",
        "    - Meneruskan vektor fitur ke `svm_model.predict()` untuk mendapatkan prediksi numerik (0/1).\n",
        "    - Menerjemahkan prediksi numerik menjadi label `'Positive'` atau `'Negative'`.\n",
        "  - Output : Mengembalikan string `'Positive'` atau `'Negative'`.\n",
        "2. **Bagian Utama Modul Evaluasi**\n",
        "  - Tujuan : Mengelola interaksi dengan pengguna untuk satu kali pengujian dan memverifikasi prediksi model.\n",
        "  - Alur :\n",
        "    - Meminta user_review (input ulasan) dari pengguna.\n",
        "    - Memanggil predict_sentiment_for_eval() untuk mendapatkan predicted_sentiment.\n",
        "    - Menampilkan predicted_sentiment kepada pengguna."
      ]
    }
  ],
  "metadata": {
    "colab": {
      "provenance": []
    },
    "kernelspec": {
      "display_name": "Python 3",
      "name": "python3"
    },
    "language_info": {
      "codemirror_mode": {
        "name": "ipython",
        "version": 3
      },
      "file_extension": ".py",
      "mimetype": "text/x-python",
      "name": "python",
      "nbconvert_exporter": "python",
      "pygments_lexer": "ipython3",
      "version": "3.11.9"
    }
  },
  "nbformat": 4,
  "nbformat_minor": 0
}
